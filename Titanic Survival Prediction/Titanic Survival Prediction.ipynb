{
 "cells": [
  {
   "cell_type": "code",
   "execution_count": 4,
   "metadata": {
    "ExecuteTime": {
     "end_time": "2020-10-28T05:56:42.416367Z",
     "start_time": "2020-10-28T05:56:42.411381Z"
    }
   },
   "outputs": [],
   "source": [
    "import pandas as pd\n",
    "import numpy as np\n",
    "import matplotlib.pyplot as plt\n",
    "import seaborn as sns"
   ]
  },
  {
   "cell_type": "code",
   "execution_count": 5,
   "metadata": {
    "ExecuteTime": {
     "end_time": "2020-10-28T05:56:42.569998Z",
     "start_time": "2020-10-28T05:56:42.418363Z"
    }
   },
   "outputs": [],
   "source": [
    "train=pd.read_csv(r\"G:\\Essentials\\Hackathon PS\\kaggle-titanic\\train.csv\")"
   ]
  },
  {
   "cell_type": "code",
   "execution_count": 6,
   "metadata": {
    "ExecuteTime": {
     "end_time": "2020-10-28T05:56:42.743535Z",
     "start_time": "2020-10-28T05:56:42.572950Z"
    }
   },
   "outputs": [
    {
     "data": {
      "text/html": [
       "<div>\n",
       "<style scoped>\n",
       "    .dataframe tbody tr th:only-of-type {\n",
       "        vertical-align: middle;\n",
       "    }\n",
       "\n",
       "    .dataframe tbody tr th {\n",
       "        vertical-align: top;\n",
       "    }\n",
       "\n",
       "    .dataframe thead th {\n",
       "        text-align: right;\n",
       "    }\n",
       "</style>\n",
       "<table border=\"1\" class=\"dataframe\">\n",
       "  <thead>\n",
       "    <tr style=\"text-align: right;\">\n",
       "      <th></th>\n",
       "      <th>PassengerId</th>\n",
       "      <th>Survived</th>\n",
       "      <th>Pclass</th>\n",
       "      <th>Name</th>\n",
       "      <th>Sex</th>\n",
       "      <th>Age</th>\n",
       "      <th>SibSp</th>\n",
       "      <th>Parch</th>\n",
       "      <th>Ticket</th>\n",
       "      <th>Fare</th>\n",
       "      <th>Cabin</th>\n",
       "      <th>Embarked</th>\n",
       "    </tr>\n",
       "  </thead>\n",
       "  <tbody>\n",
       "    <tr>\n",
       "      <th>0</th>\n",
       "      <td>1</td>\n",
       "      <td>0</td>\n",
       "      <td>3</td>\n",
       "      <td>Braund, Mr. Owen Harris</td>\n",
       "      <td>male</td>\n",
       "      <td>22.0</td>\n",
       "      <td>1</td>\n",
       "      <td>0</td>\n",
       "      <td>A/5 21171</td>\n",
       "      <td>7.2500</td>\n",
       "      <td>NaN</td>\n",
       "      <td>S</td>\n",
       "    </tr>\n",
       "    <tr>\n",
       "      <th>1</th>\n",
       "      <td>2</td>\n",
       "      <td>1</td>\n",
       "      <td>1</td>\n",
       "      <td>Cumings, Mrs. John Bradley (Florence Briggs Th...</td>\n",
       "      <td>female</td>\n",
       "      <td>38.0</td>\n",
       "      <td>1</td>\n",
       "      <td>0</td>\n",
       "      <td>PC 17599</td>\n",
       "      <td>71.2833</td>\n",
       "      <td>C85</td>\n",
       "      <td>C</td>\n",
       "    </tr>\n",
       "    <tr>\n",
       "      <th>2</th>\n",
       "      <td>3</td>\n",
       "      <td>1</td>\n",
       "      <td>3</td>\n",
       "      <td>Heikkinen, Miss. Laina</td>\n",
       "      <td>female</td>\n",
       "      <td>26.0</td>\n",
       "      <td>0</td>\n",
       "      <td>0</td>\n",
       "      <td>STON/O2. 3101282</td>\n",
       "      <td>7.9250</td>\n",
       "      <td>NaN</td>\n",
       "      <td>S</td>\n",
       "    </tr>\n",
       "    <tr>\n",
       "      <th>3</th>\n",
       "      <td>4</td>\n",
       "      <td>1</td>\n",
       "      <td>1</td>\n",
       "      <td>Futrelle, Mrs. Jacques Heath (Lily May Peel)</td>\n",
       "      <td>female</td>\n",
       "      <td>35.0</td>\n",
       "      <td>1</td>\n",
       "      <td>0</td>\n",
       "      <td>113803</td>\n",
       "      <td>53.1000</td>\n",
       "      <td>C123</td>\n",
       "      <td>S</td>\n",
       "    </tr>\n",
       "    <tr>\n",
       "      <th>4</th>\n",
       "      <td>5</td>\n",
       "      <td>0</td>\n",
       "      <td>3</td>\n",
       "      <td>Allen, Mr. William Henry</td>\n",
       "      <td>male</td>\n",
       "      <td>35.0</td>\n",
       "      <td>0</td>\n",
       "      <td>0</td>\n",
       "      <td>373450</td>\n",
       "      <td>8.0500</td>\n",
       "      <td>NaN</td>\n",
       "      <td>S</td>\n",
       "    </tr>\n",
       "  </tbody>\n",
       "</table>\n",
       "</div>"
      ],
      "text/plain": [
       "   PassengerId  Survived  Pclass  \\\n",
       "0            1         0       3   \n",
       "1            2         1       1   \n",
       "2            3         1       3   \n",
       "3            4         1       1   \n",
       "4            5         0       3   \n",
       "\n",
       "                                                Name     Sex   Age  SibSp  \\\n",
       "0                            Braund, Mr. Owen Harris    male  22.0      1   \n",
       "1  Cumings, Mrs. John Bradley (Florence Briggs Th...  female  38.0      1   \n",
       "2                             Heikkinen, Miss. Laina  female  26.0      0   \n",
       "3       Futrelle, Mrs. Jacques Heath (Lily May Peel)  female  35.0      1   \n",
       "4                           Allen, Mr. William Henry    male  35.0      0   \n",
       "\n",
       "   Parch            Ticket     Fare Cabin Embarked  \n",
       "0      0         A/5 21171   7.2500   NaN        S  \n",
       "1      0          PC 17599  71.2833   C85        C  \n",
       "2      0  STON/O2. 3101282   7.9250   NaN        S  \n",
       "3      0            113803  53.1000  C123        S  \n",
       "4      0            373450   8.0500   NaN        S  "
      ]
     },
     "execution_count": 6,
     "metadata": {},
     "output_type": "execute_result"
    }
   ],
   "source": [
    "train.head()"
   ]
  },
  {
   "cell_type": "code",
   "execution_count": 7,
   "metadata": {
    "ExecuteTime": {
     "end_time": "2020-10-28T05:56:42.918306Z",
     "start_time": "2020-10-28T05:56:42.746484Z"
    }
   },
   "outputs": [],
   "source": [
    "train=train.rename(columns={'Pclass':'Ticket Class','SibSp':'No of sib/Spouses','Parch':'No of parents/children','Ticket':'Ticket no'})"
   ]
  },
  {
   "cell_type": "code",
   "execution_count": 8,
   "metadata": {
    "ExecuteTime": {
     "end_time": "2020-10-28T05:56:43.083586Z",
     "start_time": "2020-10-28T05:56:42.920061Z"
    }
   },
   "outputs": [
    {
     "data": {
      "text/html": [
       "<div>\n",
       "<style scoped>\n",
       "    .dataframe tbody tr th:only-of-type {\n",
       "        vertical-align: middle;\n",
       "    }\n",
       "\n",
       "    .dataframe tbody tr th {\n",
       "        vertical-align: top;\n",
       "    }\n",
       "\n",
       "    .dataframe thead th {\n",
       "        text-align: right;\n",
       "    }\n",
       "</style>\n",
       "<table border=\"1\" class=\"dataframe\">\n",
       "  <thead>\n",
       "    <tr style=\"text-align: right;\">\n",
       "      <th></th>\n",
       "      <th>PassengerId</th>\n",
       "      <th>Survived</th>\n",
       "      <th>Ticket Class</th>\n",
       "      <th>Name</th>\n",
       "      <th>Sex</th>\n",
       "      <th>Age</th>\n",
       "      <th>No of sib/Spouses</th>\n",
       "      <th>No of parents/children</th>\n",
       "      <th>Ticket no</th>\n",
       "      <th>Fare</th>\n",
       "      <th>Cabin</th>\n",
       "      <th>Embarked</th>\n",
       "    </tr>\n",
       "  </thead>\n",
       "  <tbody>\n",
       "    <tr>\n",
       "      <th>0</th>\n",
       "      <td>1</td>\n",
       "      <td>0</td>\n",
       "      <td>3</td>\n",
       "      <td>Braund, Mr. Owen Harris</td>\n",
       "      <td>male</td>\n",
       "      <td>22.0</td>\n",
       "      <td>1</td>\n",
       "      <td>0</td>\n",
       "      <td>A/5 21171</td>\n",
       "      <td>7.2500</td>\n",
       "      <td>NaN</td>\n",
       "      <td>S</td>\n",
       "    </tr>\n",
       "    <tr>\n",
       "      <th>1</th>\n",
       "      <td>2</td>\n",
       "      <td>1</td>\n",
       "      <td>1</td>\n",
       "      <td>Cumings, Mrs. John Bradley (Florence Briggs Th...</td>\n",
       "      <td>female</td>\n",
       "      <td>38.0</td>\n",
       "      <td>1</td>\n",
       "      <td>0</td>\n",
       "      <td>PC 17599</td>\n",
       "      <td>71.2833</td>\n",
       "      <td>C85</td>\n",
       "      <td>C</td>\n",
       "    </tr>\n",
       "    <tr>\n",
       "      <th>2</th>\n",
       "      <td>3</td>\n",
       "      <td>1</td>\n",
       "      <td>3</td>\n",
       "      <td>Heikkinen, Miss. Laina</td>\n",
       "      <td>female</td>\n",
       "      <td>26.0</td>\n",
       "      <td>0</td>\n",
       "      <td>0</td>\n",
       "      <td>STON/O2. 3101282</td>\n",
       "      <td>7.9250</td>\n",
       "      <td>NaN</td>\n",
       "      <td>S</td>\n",
       "    </tr>\n",
       "    <tr>\n",
       "      <th>3</th>\n",
       "      <td>4</td>\n",
       "      <td>1</td>\n",
       "      <td>1</td>\n",
       "      <td>Futrelle, Mrs. Jacques Heath (Lily May Peel)</td>\n",
       "      <td>female</td>\n",
       "      <td>35.0</td>\n",
       "      <td>1</td>\n",
       "      <td>0</td>\n",
       "      <td>113803</td>\n",
       "      <td>53.1000</td>\n",
       "      <td>C123</td>\n",
       "      <td>S</td>\n",
       "    </tr>\n",
       "    <tr>\n",
       "      <th>4</th>\n",
       "      <td>5</td>\n",
       "      <td>0</td>\n",
       "      <td>3</td>\n",
       "      <td>Allen, Mr. William Henry</td>\n",
       "      <td>male</td>\n",
       "      <td>35.0</td>\n",
       "      <td>0</td>\n",
       "      <td>0</td>\n",
       "      <td>373450</td>\n",
       "      <td>8.0500</td>\n",
       "      <td>NaN</td>\n",
       "      <td>S</td>\n",
       "    </tr>\n",
       "  </tbody>\n",
       "</table>\n",
       "</div>"
      ],
      "text/plain": [
       "   PassengerId  Survived  Ticket Class  \\\n",
       "0            1         0             3   \n",
       "1            2         1             1   \n",
       "2            3         1             3   \n",
       "3            4         1             1   \n",
       "4            5         0             3   \n",
       "\n",
       "                                                Name     Sex   Age  \\\n",
       "0                            Braund, Mr. Owen Harris    male  22.0   \n",
       "1  Cumings, Mrs. John Bradley (Florence Briggs Th...  female  38.0   \n",
       "2                             Heikkinen, Miss. Laina  female  26.0   \n",
       "3       Futrelle, Mrs. Jacques Heath (Lily May Peel)  female  35.0   \n",
       "4                           Allen, Mr. William Henry    male  35.0   \n",
       "\n",
       "   No of sib/Spouses  No of parents/children         Ticket no     Fare Cabin  \\\n",
       "0                  1                       0         A/5 21171   7.2500   NaN   \n",
       "1                  1                       0          PC 17599  71.2833   C85   \n",
       "2                  0                       0  STON/O2. 3101282   7.9250   NaN   \n",
       "3                  1                       0            113803  53.1000  C123   \n",
       "4                  0                       0            373450   8.0500   NaN   \n",
       "\n",
       "  Embarked  \n",
       "0        S  \n",
       "1        C  \n",
       "2        S  \n",
       "3        S  \n",
       "4        S  "
      ]
     },
     "execution_count": 8,
     "metadata": {},
     "output_type": "execute_result"
    }
   ],
   "source": [
    "train.head()"
   ]
  },
  {
   "cell_type": "markdown",
   "metadata": {},
   "source": [
    "# Embarked :\n",
    "    S=Southampton\n",
    "    C=Cherbourg\n",
    "    Q=Queenstown"
   ]
  },
  {
   "cell_type": "code",
   "execution_count": 9,
   "metadata": {
    "ExecuteTime": {
     "end_time": "2020-10-28T05:56:43.253130Z",
     "start_time": "2020-10-28T05:56:43.085578Z"
    }
   },
   "outputs": [
    {
     "data": {
      "text/plain": [
       "(891, 12)"
      ]
     },
     "execution_count": 9,
     "metadata": {},
     "output_type": "execute_result"
    }
   ],
   "source": [
    "train.shape"
   ]
  },
  {
   "cell_type": "code",
   "execution_count": 10,
   "metadata": {
    "ExecuteTime": {
     "end_time": "2020-10-28T05:56:43.594219Z",
     "start_time": "2020-10-28T05:56:43.256126Z"
    }
   },
   "outputs": [
    {
     "name": "stdout",
     "output_type": "stream",
     "text": [
      "<class 'pandas.core.frame.DataFrame'>\n",
      "RangeIndex: 891 entries, 0 to 890\n",
      "Data columns (total 12 columns):\n",
      " #   Column                  Non-Null Count  Dtype  \n",
      "---  ------                  --------------  -----  \n",
      " 0   PassengerId             891 non-null    int64  \n",
      " 1   Survived                891 non-null    int64  \n",
      " 2   Ticket Class            891 non-null    int64  \n",
      " 3   Name                    891 non-null    object \n",
      " 4   Sex                     891 non-null    object \n",
      " 5   Age                     714 non-null    float64\n",
      " 6   No of sib/Spouses       891 non-null    int64  \n",
      " 7   No of parents/children  891 non-null    int64  \n",
      " 8   Ticket no               891 non-null    object \n",
      " 9   Fare                    891 non-null    float64\n",
      " 10  Cabin                   204 non-null    object \n",
      " 11  Embarked                889 non-null    object \n",
      "dtypes: float64(2), int64(5), object(5)\n",
      "memory usage: 83.7+ KB\n"
     ]
    }
   ],
   "source": [
    "train.info()"
   ]
  },
  {
   "cell_type": "code",
   "execution_count": 11,
   "metadata": {
    "ExecuteTime": {
     "end_time": "2020-10-28T05:56:43.853571Z",
     "start_time": "2020-10-28T05:56:43.597211Z"
    }
   },
   "outputs": [
    {
     "data": {
      "text/html": [
       "<div>\n",
       "<style scoped>\n",
       "    .dataframe tbody tr th:only-of-type {\n",
       "        vertical-align: middle;\n",
       "    }\n",
       "\n",
       "    .dataframe tbody tr th {\n",
       "        vertical-align: top;\n",
       "    }\n",
       "\n",
       "    .dataframe thead th {\n",
       "        text-align: right;\n",
       "    }\n",
       "</style>\n",
       "<table border=\"1\" class=\"dataframe\">\n",
       "  <thead>\n",
       "    <tr style=\"text-align: right;\">\n",
       "      <th></th>\n",
       "      <th>PassengerId</th>\n",
       "      <th>Survived</th>\n",
       "      <th>Ticket Class</th>\n",
       "      <th>Name</th>\n",
       "      <th>Sex</th>\n",
       "      <th>Age</th>\n",
       "      <th>No of sib/Spouses</th>\n",
       "      <th>No of parents/children</th>\n",
       "      <th>Ticket no</th>\n",
       "      <th>Fare</th>\n",
       "      <th>Cabin</th>\n",
       "      <th>Embarked</th>\n",
       "    </tr>\n",
       "  </thead>\n",
       "  <tbody>\n",
       "    <tr>\n",
       "      <th>count</th>\n",
       "      <td>891.000000</td>\n",
       "      <td>891.000000</td>\n",
       "      <td>891.000000</td>\n",
       "      <td>891</td>\n",
       "      <td>891</td>\n",
       "      <td>714.000000</td>\n",
       "      <td>891.000000</td>\n",
       "      <td>891.000000</td>\n",
       "      <td>891</td>\n",
       "      <td>891.000000</td>\n",
       "      <td>204</td>\n",
       "      <td>889</td>\n",
       "    </tr>\n",
       "    <tr>\n",
       "      <th>unique</th>\n",
       "      <td>NaN</td>\n",
       "      <td>NaN</td>\n",
       "      <td>NaN</td>\n",
       "      <td>891</td>\n",
       "      <td>2</td>\n",
       "      <td>NaN</td>\n",
       "      <td>NaN</td>\n",
       "      <td>NaN</td>\n",
       "      <td>681</td>\n",
       "      <td>NaN</td>\n",
       "      <td>147</td>\n",
       "      <td>3</td>\n",
       "    </tr>\n",
       "    <tr>\n",
       "      <th>top</th>\n",
       "      <td>NaN</td>\n",
       "      <td>NaN</td>\n",
       "      <td>NaN</td>\n",
       "      <td>Taussig, Miss. Ruth</td>\n",
       "      <td>male</td>\n",
       "      <td>NaN</td>\n",
       "      <td>NaN</td>\n",
       "      <td>NaN</td>\n",
       "      <td>CA. 2343</td>\n",
       "      <td>NaN</td>\n",
       "      <td>C23 C25 C27</td>\n",
       "      <td>S</td>\n",
       "    </tr>\n",
       "    <tr>\n",
       "      <th>freq</th>\n",
       "      <td>NaN</td>\n",
       "      <td>NaN</td>\n",
       "      <td>NaN</td>\n",
       "      <td>1</td>\n",
       "      <td>577</td>\n",
       "      <td>NaN</td>\n",
       "      <td>NaN</td>\n",
       "      <td>NaN</td>\n",
       "      <td>7</td>\n",
       "      <td>NaN</td>\n",
       "      <td>4</td>\n",
       "      <td>644</td>\n",
       "    </tr>\n",
       "    <tr>\n",
       "      <th>mean</th>\n",
       "      <td>446.000000</td>\n",
       "      <td>0.383838</td>\n",
       "      <td>2.308642</td>\n",
       "      <td>NaN</td>\n",
       "      <td>NaN</td>\n",
       "      <td>29.699118</td>\n",
       "      <td>0.523008</td>\n",
       "      <td>0.381594</td>\n",
       "      <td>NaN</td>\n",
       "      <td>32.204208</td>\n",
       "      <td>NaN</td>\n",
       "      <td>NaN</td>\n",
       "    </tr>\n",
       "    <tr>\n",
       "      <th>std</th>\n",
       "      <td>257.353842</td>\n",
       "      <td>0.486592</td>\n",
       "      <td>0.836071</td>\n",
       "      <td>NaN</td>\n",
       "      <td>NaN</td>\n",
       "      <td>14.526497</td>\n",
       "      <td>1.102743</td>\n",
       "      <td>0.806057</td>\n",
       "      <td>NaN</td>\n",
       "      <td>49.693429</td>\n",
       "      <td>NaN</td>\n",
       "      <td>NaN</td>\n",
       "    </tr>\n",
       "    <tr>\n",
       "      <th>min</th>\n",
       "      <td>1.000000</td>\n",
       "      <td>0.000000</td>\n",
       "      <td>1.000000</td>\n",
       "      <td>NaN</td>\n",
       "      <td>NaN</td>\n",
       "      <td>0.420000</td>\n",
       "      <td>0.000000</td>\n",
       "      <td>0.000000</td>\n",
       "      <td>NaN</td>\n",
       "      <td>0.000000</td>\n",
       "      <td>NaN</td>\n",
       "      <td>NaN</td>\n",
       "    </tr>\n",
       "    <tr>\n",
       "      <th>25%</th>\n",
       "      <td>223.500000</td>\n",
       "      <td>0.000000</td>\n",
       "      <td>2.000000</td>\n",
       "      <td>NaN</td>\n",
       "      <td>NaN</td>\n",
       "      <td>20.125000</td>\n",
       "      <td>0.000000</td>\n",
       "      <td>0.000000</td>\n",
       "      <td>NaN</td>\n",
       "      <td>7.910400</td>\n",
       "      <td>NaN</td>\n",
       "      <td>NaN</td>\n",
       "    </tr>\n",
       "    <tr>\n",
       "      <th>50%</th>\n",
       "      <td>446.000000</td>\n",
       "      <td>0.000000</td>\n",
       "      <td>3.000000</td>\n",
       "      <td>NaN</td>\n",
       "      <td>NaN</td>\n",
       "      <td>28.000000</td>\n",
       "      <td>0.000000</td>\n",
       "      <td>0.000000</td>\n",
       "      <td>NaN</td>\n",
       "      <td>14.454200</td>\n",
       "      <td>NaN</td>\n",
       "      <td>NaN</td>\n",
       "    </tr>\n",
       "    <tr>\n",
       "      <th>75%</th>\n",
       "      <td>668.500000</td>\n",
       "      <td>1.000000</td>\n",
       "      <td>3.000000</td>\n",
       "      <td>NaN</td>\n",
       "      <td>NaN</td>\n",
       "      <td>38.000000</td>\n",
       "      <td>1.000000</td>\n",
       "      <td>0.000000</td>\n",
       "      <td>NaN</td>\n",
       "      <td>31.000000</td>\n",
       "      <td>NaN</td>\n",
       "      <td>NaN</td>\n",
       "    </tr>\n",
       "    <tr>\n",
       "      <th>max</th>\n",
       "      <td>891.000000</td>\n",
       "      <td>1.000000</td>\n",
       "      <td>3.000000</td>\n",
       "      <td>NaN</td>\n",
       "      <td>NaN</td>\n",
       "      <td>80.000000</td>\n",
       "      <td>8.000000</td>\n",
       "      <td>6.000000</td>\n",
       "      <td>NaN</td>\n",
       "      <td>512.329200</td>\n",
       "      <td>NaN</td>\n",
       "      <td>NaN</td>\n",
       "    </tr>\n",
       "  </tbody>\n",
       "</table>\n",
       "</div>"
      ],
      "text/plain": [
       "        PassengerId    Survived  Ticket Class                 Name   Sex  \\\n",
       "count    891.000000  891.000000    891.000000                  891   891   \n",
       "unique          NaN         NaN           NaN                  891     2   \n",
       "top             NaN         NaN           NaN  Taussig, Miss. Ruth  male   \n",
       "freq            NaN         NaN           NaN                    1   577   \n",
       "mean     446.000000    0.383838      2.308642                  NaN   NaN   \n",
       "std      257.353842    0.486592      0.836071                  NaN   NaN   \n",
       "min        1.000000    0.000000      1.000000                  NaN   NaN   \n",
       "25%      223.500000    0.000000      2.000000                  NaN   NaN   \n",
       "50%      446.000000    0.000000      3.000000                  NaN   NaN   \n",
       "75%      668.500000    1.000000      3.000000                  NaN   NaN   \n",
       "max      891.000000    1.000000      3.000000                  NaN   NaN   \n",
       "\n",
       "               Age  No of sib/Spouses  No of parents/children Ticket no  \\\n",
       "count   714.000000         891.000000              891.000000       891   \n",
       "unique         NaN                NaN                     NaN       681   \n",
       "top            NaN                NaN                     NaN  CA. 2343   \n",
       "freq           NaN                NaN                     NaN         7   \n",
       "mean     29.699118           0.523008                0.381594       NaN   \n",
       "std      14.526497           1.102743                0.806057       NaN   \n",
       "min       0.420000           0.000000                0.000000       NaN   \n",
       "25%      20.125000           0.000000                0.000000       NaN   \n",
       "50%      28.000000           0.000000                0.000000       NaN   \n",
       "75%      38.000000           1.000000                0.000000       NaN   \n",
       "max      80.000000           8.000000                6.000000       NaN   \n",
       "\n",
       "              Fare        Cabin Embarked  \n",
       "count   891.000000          204      889  \n",
       "unique         NaN          147        3  \n",
       "top            NaN  C23 C25 C27        S  \n",
       "freq           NaN            4      644  \n",
       "mean     32.204208          NaN      NaN  \n",
       "std      49.693429          NaN      NaN  \n",
       "min       0.000000          NaN      NaN  \n",
       "25%       7.910400          NaN      NaN  \n",
       "50%      14.454200          NaN      NaN  \n",
       "75%      31.000000          NaN      NaN  \n",
       "max     512.329200          NaN      NaN  "
      ]
     },
     "execution_count": 11,
     "metadata": {},
     "output_type": "execute_result"
    }
   ],
   "source": [
    "train.describe(include='all')"
   ]
  },
  {
   "cell_type": "code",
   "execution_count": 12,
   "metadata": {
    "ExecuteTime": {
     "end_time": "2020-10-28T05:56:43.866530Z",
     "start_time": "2020-10-28T05:56:43.856521Z"
    }
   },
   "outputs": [
    {
     "data": {
      "text/plain": [
       "PassengerId                 0\n",
       "Survived                    0\n",
       "Ticket Class                0\n",
       "Name                        0\n",
       "Sex                         0\n",
       "Age                       177\n",
       "No of sib/Spouses           0\n",
       "No of parents/children      0\n",
       "Ticket no                   0\n",
       "Fare                        0\n",
       "Cabin                     687\n",
       "Embarked                    2\n",
       "dtype: int64"
      ]
     },
     "execution_count": 12,
     "metadata": {},
     "output_type": "execute_result"
    }
   ],
   "source": [
    "train.isnull().sum()"
   ]
  },
  {
   "cell_type": "code",
   "execution_count": 13,
   "metadata": {
    "ExecuteTime": {
     "end_time": "2020-10-28T05:56:44.063962Z",
     "start_time": "2020-10-28T05:56:43.868485Z"
    }
   },
   "outputs": [],
   "source": [
    "train.drop(['Cabin','Ticket no'],axis=1,inplace=True)"
   ]
  },
  {
   "cell_type": "code",
   "execution_count": 14,
   "metadata": {
    "ExecuteTime": {
     "end_time": "2020-10-28T05:56:44.242485Z",
     "start_time": "2020-10-28T05:56:44.065957Z"
    }
   },
   "outputs": [],
   "source": [
    "train.describe(include='all')\n",
    "from scipy import stats"
   ]
  },
  {
   "cell_type": "code",
   "execution_count": 15,
   "metadata": {
    "ExecuteTime": {
     "end_time": "2020-10-28T05:56:44.394470Z",
     "start_time": "2020-10-28T05:56:44.244479Z"
    }
   },
   "outputs": [],
   "source": [
    "train['Embarked'].replace(np.nan,'S',inplace=True)"
   ]
  },
  {
   "cell_type": "code",
   "execution_count": 16,
   "metadata": {
    "ExecuteTime": {
     "end_time": "2020-10-28T05:56:44.539713Z",
     "start_time": "2020-10-28T05:56:44.396074Z"
    }
   },
   "outputs": [],
   "source": [
    "train['Age'].replace(np.nan,0,inplace=True)"
   ]
  },
  {
   "cell_type": "code",
   "execution_count": 17,
   "metadata": {
    "ExecuteTime": {
     "end_time": "2020-10-28T05:56:44.732176Z",
     "start_time": "2020-10-28T05:56:44.541685Z"
    }
   },
   "outputs": [
    {
     "data": {
      "text/html": [
       "<div>\n",
       "<style scoped>\n",
       "    .dataframe tbody tr th:only-of-type {\n",
       "        vertical-align: middle;\n",
       "    }\n",
       "\n",
       "    .dataframe tbody tr th {\n",
       "        vertical-align: top;\n",
       "    }\n",
       "\n",
       "    .dataframe thead th {\n",
       "        text-align: right;\n",
       "    }\n",
       "</style>\n",
       "<table border=\"1\" class=\"dataframe\">\n",
       "  <thead>\n",
       "    <tr style=\"text-align: right;\">\n",
       "      <th></th>\n",
       "      <th>PassengerId</th>\n",
       "      <th>Survived</th>\n",
       "      <th>Ticket Class</th>\n",
       "      <th>Name</th>\n",
       "      <th>Sex</th>\n",
       "      <th>Age</th>\n",
       "      <th>No of sib/Spouses</th>\n",
       "      <th>No of parents/children</th>\n",
       "      <th>Fare</th>\n",
       "      <th>Embarked</th>\n",
       "    </tr>\n",
       "  </thead>\n",
       "  <tbody>\n",
       "    <tr>\n",
       "      <th>0</th>\n",
       "      <td>False</td>\n",
       "      <td>False</td>\n",
       "      <td>False</td>\n",
       "      <td>False</td>\n",
       "      <td>False</td>\n",
       "      <td>False</td>\n",
       "      <td>False</td>\n",
       "      <td>False</td>\n",
       "      <td>False</td>\n",
       "      <td>False</td>\n",
       "    </tr>\n",
       "    <tr>\n",
       "      <th>1</th>\n",
       "      <td>False</td>\n",
       "      <td>False</td>\n",
       "      <td>False</td>\n",
       "      <td>False</td>\n",
       "      <td>False</td>\n",
       "      <td>False</td>\n",
       "      <td>False</td>\n",
       "      <td>False</td>\n",
       "      <td>False</td>\n",
       "      <td>False</td>\n",
       "    </tr>\n",
       "    <tr>\n",
       "      <th>2</th>\n",
       "      <td>False</td>\n",
       "      <td>False</td>\n",
       "      <td>False</td>\n",
       "      <td>False</td>\n",
       "      <td>False</td>\n",
       "      <td>False</td>\n",
       "      <td>False</td>\n",
       "      <td>False</td>\n",
       "      <td>False</td>\n",
       "      <td>False</td>\n",
       "    </tr>\n",
       "    <tr>\n",
       "      <th>3</th>\n",
       "      <td>False</td>\n",
       "      <td>False</td>\n",
       "      <td>False</td>\n",
       "      <td>False</td>\n",
       "      <td>False</td>\n",
       "      <td>False</td>\n",
       "      <td>False</td>\n",
       "      <td>False</td>\n",
       "      <td>False</td>\n",
       "      <td>False</td>\n",
       "    </tr>\n",
       "    <tr>\n",
       "      <th>4</th>\n",
       "      <td>False</td>\n",
       "      <td>False</td>\n",
       "      <td>False</td>\n",
       "      <td>False</td>\n",
       "      <td>False</td>\n",
       "      <td>False</td>\n",
       "      <td>False</td>\n",
       "      <td>False</td>\n",
       "      <td>False</td>\n",
       "      <td>False</td>\n",
       "    </tr>\n",
       "    <tr>\n",
       "      <th>...</th>\n",
       "      <td>...</td>\n",
       "      <td>...</td>\n",
       "      <td>...</td>\n",
       "      <td>...</td>\n",
       "      <td>...</td>\n",
       "      <td>...</td>\n",
       "      <td>...</td>\n",
       "      <td>...</td>\n",
       "      <td>...</td>\n",
       "      <td>...</td>\n",
       "    </tr>\n",
       "    <tr>\n",
       "      <th>886</th>\n",
       "      <td>False</td>\n",
       "      <td>False</td>\n",
       "      <td>False</td>\n",
       "      <td>False</td>\n",
       "      <td>False</td>\n",
       "      <td>False</td>\n",
       "      <td>False</td>\n",
       "      <td>False</td>\n",
       "      <td>False</td>\n",
       "      <td>False</td>\n",
       "    </tr>\n",
       "    <tr>\n",
       "      <th>887</th>\n",
       "      <td>False</td>\n",
       "      <td>False</td>\n",
       "      <td>False</td>\n",
       "      <td>False</td>\n",
       "      <td>False</td>\n",
       "      <td>False</td>\n",
       "      <td>False</td>\n",
       "      <td>False</td>\n",
       "      <td>False</td>\n",
       "      <td>False</td>\n",
       "    </tr>\n",
       "    <tr>\n",
       "      <th>888</th>\n",
       "      <td>False</td>\n",
       "      <td>False</td>\n",
       "      <td>False</td>\n",
       "      <td>False</td>\n",
       "      <td>False</td>\n",
       "      <td>False</td>\n",
       "      <td>False</td>\n",
       "      <td>False</td>\n",
       "      <td>False</td>\n",
       "      <td>False</td>\n",
       "    </tr>\n",
       "    <tr>\n",
       "      <th>889</th>\n",
       "      <td>False</td>\n",
       "      <td>False</td>\n",
       "      <td>False</td>\n",
       "      <td>False</td>\n",
       "      <td>False</td>\n",
       "      <td>False</td>\n",
       "      <td>False</td>\n",
       "      <td>False</td>\n",
       "      <td>False</td>\n",
       "      <td>False</td>\n",
       "    </tr>\n",
       "    <tr>\n",
       "      <th>890</th>\n",
       "      <td>False</td>\n",
       "      <td>False</td>\n",
       "      <td>False</td>\n",
       "      <td>False</td>\n",
       "      <td>False</td>\n",
       "      <td>False</td>\n",
       "      <td>False</td>\n",
       "      <td>False</td>\n",
       "      <td>False</td>\n",
       "      <td>False</td>\n",
       "    </tr>\n",
       "  </tbody>\n",
       "</table>\n",
       "<p>891 rows × 10 columns</p>\n",
       "</div>"
      ],
      "text/plain": [
       "     PassengerId  Survived  Ticket Class   Name    Sex    Age  \\\n",
       "0          False     False         False  False  False  False   \n",
       "1          False     False         False  False  False  False   \n",
       "2          False     False         False  False  False  False   \n",
       "3          False     False         False  False  False  False   \n",
       "4          False     False         False  False  False  False   \n",
       "..           ...       ...           ...    ...    ...    ...   \n",
       "886        False     False         False  False  False  False   \n",
       "887        False     False         False  False  False  False   \n",
       "888        False     False         False  False  False  False   \n",
       "889        False     False         False  False  False  False   \n",
       "890        False     False         False  False  False  False   \n",
       "\n",
       "     No of sib/Spouses  No of parents/children   Fare  Embarked  \n",
       "0                False                   False  False     False  \n",
       "1                False                   False  False     False  \n",
       "2                False                   False  False     False  \n",
       "3                False                   False  False     False  \n",
       "4                False                   False  False     False  \n",
       "..                 ...                     ...    ...       ...  \n",
       "886              False                   False  False     False  \n",
       "887              False                   False  False     False  \n",
       "888              False                   False  False     False  \n",
       "889              False                   False  False     False  \n",
       "890              False                   False  False     False  \n",
       "\n",
       "[891 rows x 10 columns]"
      ]
     },
     "execution_count": 17,
     "metadata": {},
     "output_type": "execute_result"
    }
   ],
   "source": [
    "train.isnull()"
   ]
  },
  {
   "cell_type": "code",
   "execution_count": 18,
   "metadata": {
    "ExecuteTime": {
     "end_time": "2020-10-28T05:56:44.864824Z",
     "start_time": "2020-10-28T05:56:44.734171Z"
    }
   },
   "outputs": [
    {
     "data": {
      "text/plain": [
       "PassengerId                 int64\n",
       "Survived                    int64\n",
       "Ticket Class                int64\n",
       "Name                       object\n",
       "Sex                        object\n",
       "Age                       float64\n",
       "No of sib/Spouses           int64\n",
       "No of parents/children      int64\n",
       "Fare                      float64\n",
       "Embarked                   object\n",
       "dtype: object"
      ]
     },
     "execution_count": 18,
     "metadata": {},
     "output_type": "execute_result"
    }
   ],
   "source": [
    "train.dtypes"
   ]
  },
  {
   "cell_type": "code",
   "execution_count": 19,
   "metadata": {
    "ExecuteTime": {
     "end_time": "2020-10-28T05:56:46.802652Z",
     "start_time": "2020-10-28T05:56:44.866817Z"
    }
   },
   "outputs": [
    {
     "data": {
      "text/plain": [
       "<matplotlib.axes._subplots.AxesSubplot at 0x26daf566cc0>"
      ]
     },
     "execution_count": 19,
     "metadata": {},
     "output_type": "execute_result"
    },
    {
     "data": {
      "image/png": "[encoded data removed]",
      "text/plain": [
       "<Figure size 432x288 with 2 Axes>"
      ]
     },
     "metadata": {
      "needs_background": "light"
     },
     "output_type": "display_data"
    }
   ],
   "source": [
    "sns.heatmap(train.corr())"
   ]
  },
  {
   "cell_type": "code",
   "execution_count": 20,
   "metadata": {
    "ExecuteTime": {
     "end_time": "2020-10-28T05:56:46.820592Z",
     "start_time": "2020-10-28T05:56:46.804637Z"
    }
   },
   "outputs": [
    {
     "data": {
      "text/html": [
       "<div>\n",
       "<style scoped>\n",
       "    .dataframe tbody tr th:only-of-type {\n",
       "        vertical-align: middle;\n",
       "    }\n",
       "\n",
       "    .dataframe tbody tr th {\n",
       "        vertical-align: top;\n",
       "    }\n",
       "\n",
       "    .dataframe thead th {\n",
       "        text-align: right;\n",
       "    }\n",
       "</style>\n",
       "<table border=\"1\" class=\"dataframe\">\n",
       "  <thead>\n",
       "    <tr style=\"text-align: right;\">\n",
       "      <th></th>\n",
       "      <th>PassengerId</th>\n",
       "      <th>Survived</th>\n",
       "      <th>Ticket Class</th>\n",
       "      <th>Name</th>\n",
       "      <th>Sex</th>\n",
       "      <th>Age</th>\n",
       "      <th>No of sib/Spouses</th>\n",
       "      <th>No of parents/children</th>\n",
       "      <th>Fare</th>\n",
       "      <th>Embarked</th>\n",
       "    </tr>\n",
       "  </thead>\n",
       "  <tbody>\n",
       "    <tr>\n",
       "      <th>0</th>\n",
       "      <td>1</td>\n",
       "      <td>0</td>\n",
       "      <td>3</td>\n",
       "      <td>Braund, Mr. Owen Harris</td>\n",
       "      <td>male</td>\n",
       "      <td>22.0</td>\n",
       "      <td>1</td>\n",
       "      <td>0</td>\n",
       "      <td>7.2500</td>\n",
       "      <td>S</td>\n",
       "    </tr>\n",
       "    <tr>\n",
       "      <th>1</th>\n",
       "      <td>2</td>\n",
       "      <td>1</td>\n",
       "      <td>1</td>\n",
       "      <td>Cumings, Mrs. John Bradley (Florence Briggs Th...</td>\n",
       "      <td>female</td>\n",
       "      <td>38.0</td>\n",
       "      <td>1</td>\n",
       "      <td>0</td>\n",
       "      <td>71.2833</td>\n",
       "      <td>C</td>\n",
       "    </tr>\n",
       "    <tr>\n",
       "      <th>2</th>\n",
       "      <td>3</td>\n",
       "      <td>1</td>\n",
       "      <td>3</td>\n",
       "      <td>Heikkinen, Miss. Laina</td>\n",
       "      <td>female</td>\n",
       "      <td>26.0</td>\n",
       "      <td>0</td>\n",
       "      <td>0</td>\n",
       "      <td>7.9250</td>\n",
       "      <td>S</td>\n",
       "    </tr>\n",
       "    <tr>\n",
       "      <th>3</th>\n",
       "      <td>4</td>\n",
       "      <td>1</td>\n",
       "      <td>1</td>\n",
       "      <td>Futrelle, Mrs. Jacques Heath (Lily May Peel)</td>\n",
       "      <td>female</td>\n",
       "      <td>35.0</td>\n",
       "      <td>1</td>\n",
       "      <td>0</td>\n",
       "      <td>53.1000</td>\n",
       "      <td>S</td>\n",
       "    </tr>\n",
       "    <tr>\n",
       "      <th>4</th>\n",
       "      <td>5</td>\n",
       "      <td>0</td>\n",
       "      <td>3</td>\n",
       "      <td>Allen, Mr. William Henry</td>\n",
       "      <td>male</td>\n",
       "      <td>35.0</td>\n",
       "      <td>0</td>\n",
       "      <td>0</td>\n",
       "      <td>8.0500</td>\n",
       "      <td>S</td>\n",
       "    </tr>\n",
       "  </tbody>\n",
       "</table>\n",
       "</div>"
      ],
      "text/plain": [
       "   PassengerId  Survived  Ticket Class  \\\n",
       "0            1         0             3   \n",
       "1            2         1             1   \n",
       "2            3         1             3   \n",
       "3            4         1             1   \n",
       "4            5         0             3   \n",
       "\n",
       "                                                Name     Sex   Age  \\\n",
       "0                            Braund, Mr. Owen Harris    male  22.0   \n",
       "1  Cumings, Mrs. John Bradley (Florence Briggs Th...  female  38.0   \n",
       "2                             Heikkinen, Miss. Laina  female  26.0   \n",
       "3       Futrelle, Mrs. Jacques Heath (Lily May Peel)  female  35.0   \n",
       "4                           Allen, Mr. William Henry    male  35.0   \n",
       "\n",
       "   No of sib/Spouses  No of parents/children     Fare Embarked  \n",
       "0                  1                       0   7.2500        S  \n",
       "1                  1                       0  71.2833        C  \n",
       "2                  0                       0   7.9250        S  \n",
       "3                  1                       0  53.1000        S  \n",
       "4                  0                       0   8.0500        S  "
      ]
     },
     "execution_count": 20,
     "metadata": {},
     "output_type": "execute_result"
    }
   ],
   "source": [
    "train.head()"
   ]
  },
  {
   "cell_type": "code",
   "execution_count": 21,
   "metadata": {
    "ExecuteTime": {
     "end_time": "2020-10-28T05:56:47.566600Z",
     "start_time": "2020-10-28T05:56:46.822587Z"
    }
   },
   "outputs": [
    {
     "data": {
      "text/plain": [
       "<matplotlib.axes._subplots.AxesSubplot at 0x26dafda6438>"
      ]
     },
     "execution_count": 21,
     "metadata": {},
     "output_type": "execute_result"
    },
    {
     "data": {
      "image/png": "[encoded data removed]",
      "text/plain": [
       "<Figure size 432x288 with 1 Axes>"
      ]
     },
     "metadata": {
      "needs_background": "light"
     },
     "output_type": "display_data"
    }
   ],
   "source": [
    "train['Age'].plot.box()"
   ]
  },
  {
   "cell_type": "code",
   "execution_count": 22,
   "metadata": {
    "ExecuteTime": {
     "end_time": "2020-10-28T05:56:47.732158Z",
     "start_time": "2020-10-28T05:56:47.571585Z"
    }
   },
   "outputs": [
    {
     "data": {
      "text/plain": [
       "Text(0, 0.5, 'Frequency')"
      ]
     },
     "execution_count": 22,
     "metadata": {},
     "output_type": "execute_result"
    },
    {
     "data": {
      "image/png": "[encoded data removed]",
      "text/plain": [
       "<Figure size 432x288 with 1 Axes>"
      ]
     },
     "metadata": {
      "needs_background": "light"
     },
     "output_type": "display_data"
    }
   ],
   "source": [
    "train['Ticket Class'].value_counts().plot(kind='bar',cmap='Set3')\n",
    "plt.xlabel(\"Ticket Class\")\n",
    "plt.ylabel(\"Frequency\")"
   ]
  },
  {
   "cell_type": "markdown",
   "metadata": {},
   "source": [
    "# Maximum number of people belong to class 3"
   ]
  },
  {
   "cell_type": "code",
   "execution_count": 23,
   "metadata": {
    "ExecuteTime": {
     "end_time": "2020-10-28T05:56:47.894758Z",
     "start_time": "2020-10-28T05:56:47.736144Z"
    }
   },
   "outputs": [
    {
     "data": {
      "text/plain": [
       "<matplotlib.legend.Legend at 0x26dafe8dba8>"
      ]
     },
     "execution_count": 23,
     "metadata": {},
     "output_type": "execute_result"
    },
    {
     "data": {
      "image/png": "[encoded data removed]",
      "text/plain": [
       "<Figure size 1080x432 with 1 Axes>"
      ]
     },
     "metadata": {},
     "output_type": "display_data"
    }
   ],
   "source": [
    "train['Sex'].value_counts().plot(kind='pie',\n",
    "                                    autopct=\"%1.1f%%\",\n",
    "                                     startangle=90,\n",
    "                                figsize=(15,6),\n",
    "                                 explode=[0.1,0.01],\n",
    "                                 colors=['lightcoral','lightskyblue']\n",
    "                                   )\n",
    "plt.axis('equal')\n",
    "plt.title('Frequency of gender')\n",
    "plt.legend()"
   ]
  },
  {
   "cell_type": "code",
   "execution_count": 24,
   "metadata": {
    "ExecuteTime": {
     "end_time": "2020-10-28T05:56:48.244784Z",
     "start_time": "2020-10-28T05:56:47.896717Z"
    }
   },
   "outputs": [
    {
     "data": {
      "text/plain": [
       "Text(0.5, 1.0, 'Count of siblings and spouses ')"
      ]
     },
     "execution_count": 24,
     "metadata": {},
     "output_type": "execute_result"
    },
    {
     "data": {
      "image/png": "[encoded data removed]",
      "text/plain": [
       "<Figure size 432x288 with 1 Axes>"
      ]
     },
     "metadata": {
      "needs_background": "light"
     },
     "output_type": "display_data"
    }
   ],
   "source": [
    "sns.countplot(train['No of sib/Spouses'])\n",
    "plt.title(\"Count of siblings and spouses \")"
   ]
  },
  {
   "cell_type": "code",
   "execution_count": 25,
   "metadata": {
    "ExecuteTime": {
     "end_time": "2020-10-28T05:56:48.444252Z",
     "start_time": "2020-10-28T05:56:48.246779Z"
    }
   },
   "outputs": [
    {
     "data": {
      "text/plain": [
       "Text(0.5, 1.0, 'Count of Parents and Children ')"
      ]
     },
     "execution_count": 25,
     "metadata": {},
     "output_type": "execute_result"
    },
    {
     "data": {
      "image/png": "[encoded data removed]",
      "text/plain": [
       "<Figure size 432x288 with 1 Axes>"
      ]
     },
     "metadata": {
      "needs_background": "light"
     },
     "output_type": "display_data"
    }
   ],
   "source": [
    "sns.countplot(train['No of parents/children'])\n",
    "plt.title(\"Count of Parents and Children \")"
   ]
  },
  {
   "cell_type": "code",
   "execution_count": 26,
   "metadata": {
    "ExecuteTime": {
     "end_time": "2020-10-28T05:56:48.684609Z",
     "start_time": "2020-10-28T05:56:48.446249Z"
    }
   },
   "outputs": [
    {
     "data": {
      "text/plain": [
       "([<matplotlib.axis.XTick at 0x26daff928d0>,\n",
       "  <matplotlib.axis.XTick at 0x26daff92898>,\n",
       "  <matplotlib.axis.XTick at 0x26daff924e0>],\n",
       " <a list of 3 Text major ticklabel objects>)"
      ]
     },
     "execution_count": 26,
     "metadata": {},
     "output_type": "execute_result"
    },
    {
     "data": {
      "image/png": "[encoded data removed]",
      "text/plain": [
       "<Figure size 432x288 with 1 Axes>"
      ]
     },
     "metadata": {
      "needs_background": "light"
     },
     "output_type": "display_data"
    }
   ],
   "source": [
    "plt.scatter(x='Ticket Class',y='Fare',data=train)\n",
    "plt.xlabel('Ticket Class')\n",
    "plt.ylabel('Fare')\n",
    "plt.title('Ticket Class VS Fare')\n",
    "plt.xticks([1,2,3])"
   ]
  },
  {
   "cell_type": "code",
   "execution_count": 27,
   "metadata": {
    "ExecuteTime": {
     "end_time": "2020-10-28T05:56:48.832216Z",
     "start_time": "2020-10-28T05:56:48.686605Z"
    }
   },
   "outputs": [
    {
     "data": {
      "text/plain": [
       "<matplotlib.axes._subplots.AxesSubplot at 0x26daff18ef0>"
      ]
     },
     "execution_count": 27,
     "metadata": {},
     "output_type": "execute_result"
    },
    {
     "data": {
      "image/png": "[encoded data removed]",
      "text/plain": [
       "<Figure size 432x288 with 1 Axes>"
      ]
     },
     "metadata": {
      "needs_background": "light"
     },
     "output_type": "display_data"
    }
   ],
   "source": [
    "train['Fare'].plot.box()"
   ]
  },
  {
   "cell_type": "code",
   "execution_count": 28,
   "metadata": {
    "ExecuteTime": {
     "end_time": "2020-10-28T05:56:48.896325Z",
     "start_time": "2020-10-28T05:56:48.834208Z"
    }
   },
   "outputs": [],
   "source": [
    "train=train[train['Fare']<500]"
   ]
  },
  {
   "cell_type": "code",
   "execution_count": 29,
   "metadata": {
    "ExecuteTime": {
     "end_time": "2020-10-28T05:56:49.142386Z",
     "start_time": "2020-10-28T05:56:48.898075Z"
    }
   },
   "outputs": [
    {
     "data": {
      "text/plain": [
       "<matplotlib.axes._subplots.AxesSubplot at 0x26daff2efd0>"
      ]
     },
     "execution_count": 29,
     "metadata": {},
     "output_type": "execute_result"
    },
    {
     "data": {
      "image/png": "[encoded data removed]",
      "text/plain": [
       "<Figure size 432x288 with 1 Axes>"
      ]
     },
     "metadata": {
      "needs_background": "light"
     },
     "output_type": "display_data"
    }
   ],
   "source": [
    "train['Fare'].plot.box()"
   ]
  },
  {
   "cell_type": "code",
   "execution_count": 30,
   "metadata": {
    "ExecuteTime": {
     "end_time": "2020-10-28T05:56:49.515388Z",
     "start_time": "2020-10-28T05:56:49.144379Z"
    }
   },
   "outputs": [
    {
     "data": {
      "image/png": "[encoded data removed]",
      "text/plain": [
       "<Figure size 432x288 with 1 Axes>"
      ]
     },
     "metadata": {
      "needs_background": "light"
     },
     "output_type": "display_data"
    }
   ],
   "source": [
    "sns.countplot('Survived',hue='Sex',data=train)\n",
    "plt.grid()"
   ]
  },
  {
   "cell_type": "code",
   "execution_count": 31,
   "metadata": {
    "ExecuteTime": {
     "end_time": "2020-10-28T05:56:49.526398Z",
     "start_time": "2020-10-28T05:56:49.517381Z"
    }
   },
   "outputs": [
    {
     "data": {
      "text/plain": [
       "0    549\n",
       "1    339\n",
       "Name: Survived, dtype: int64"
      ]
     },
     "execution_count": 31,
     "metadata": {},
     "output_type": "execute_result"
    }
   ],
   "source": [
    "train['Survived'].value_counts()"
   ]
  },
  {
   "cell_type": "code",
   "execution_count": 32,
   "metadata": {
    "ExecuteTime": {
     "end_time": "2020-10-28T05:56:49.708910Z",
     "start_time": "2020-10-28T05:56:49.528353Z"
    }
   },
   "outputs": [
    {
     "name": "stdout",
     "output_type": "stream",
     "text": [
      "Percentage of people who didnt survived= 0.6182432432432432\n",
      "Percentage of people who  survived= 0.38175675675675674\n"
     ]
    }
   ],
   "source": [
    "print('Percentage of people who didnt survived=',(549/train.shape[0]))\n",
    "print('Percentage of people who  survived=',(339/train.shape[0]))"
   ]
  },
  {
   "cell_type": "code",
   "execution_count": 33,
   "metadata": {
    "ExecuteTime": {
     "end_time": "2020-10-28T05:56:56.382356Z",
     "start_time": "2020-10-28T05:56:49.710868Z"
    }
   },
   "outputs": [],
   "source": [
    "from imblearn.over_sampling import SMOTE"
   ]
  },
  {
   "cell_type": "code",
   "execution_count": 34,
   "metadata": {
    "ExecuteTime": {
     "end_time": "2020-10-28T05:56:56.547587Z",
     "start_time": "2020-10-28T05:56:56.384024Z"
    }
   },
   "outputs": [
    {
     "data": {
      "text/plain": [
       "Text(0.5, 1.0, 'Count of Embarked')"
      ]
     },
     "execution_count": 34,
     "metadata": {},
     "output_type": "execute_result"
    },
    {
     "data": {
      "image/png": "[encoded data removed]",
      "text/plain": [
       "<Figure size 432x288 with 1 Axes>"
      ]
     },
     "metadata": {
      "needs_background": "light"
     },
     "output_type": "display_data"
    }
   ],
   "source": [
    "sns.countplot('Embarked',hue='Sex',data=train)\n",
    "plt.title(\"Count of Embarked\")"
   ]
  },
  {
   "cell_type": "code",
   "execution_count": 35,
   "metadata": {
    "ExecuteTime": {
     "end_time": "2020-10-28T05:56:56.562546Z",
     "start_time": "2020-10-28T05:56:56.549620Z"
    }
   },
   "outputs": [],
   "source": [
    "from sklearn.preprocessing import LabelEncoder"
   ]
  },
  {
   "cell_type": "code",
   "execution_count": 36,
   "metadata": {
    "ExecuteTime": {
     "end_time": "2020-10-28T05:56:56.706202Z",
     "start_time": "2020-10-28T05:56:56.564543Z"
    }
   },
   "outputs": [
    {
     "data": {
      "text/html": [
       "<div>\n",
       "<style scoped>\n",
       "    .dataframe tbody tr th:only-of-type {\n",
       "        vertical-align: middle;\n",
       "    }\n",
       "\n",
       "    .dataframe tbody tr th {\n",
       "        vertical-align: top;\n",
       "    }\n",
       "\n",
       "    .dataframe thead th {\n",
       "        text-align: right;\n",
       "    }\n",
       "</style>\n",
       "<table border=\"1\" class=\"dataframe\">\n",
       "  <thead>\n",
       "    <tr style=\"text-align: right;\">\n",
       "      <th></th>\n",
       "      <th>PassengerId</th>\n",
       "      <th>Survived</th>\n",
       "      <th>Ticket Class</th>\n",
       "      <th>Name</th>\n",
       "      <th>Sex</th>\n",
       "      <th>Age</th>\n",
       "      <th>No of sib/Spouses</th>\n",
       "      <th>No of parents/children</th>\n",
       "      <th>Fare</th>\n",
       "      <th>Embarked</th>\n",
       "    </tr>\n",
       "  </thead>\n",
       "  <tbody>\n",
       "    <tr>\n",
       "      <th>0</th>\n",
       "      <td>1</td>\n",
       "      <td>0</td>\n",
       "      <td>3</td>\n",
       "      <td>Braund, Mr. Owen Harris</td>\n",
       "      <td>male</td>\n",
       "      <td>22.0</td>\n",
       "      <td>1</td>\n",
       "      <td>0</td>\n",
       "      <td>7.2500</td>\n",
       "      <td>S</td>\n",
       "    </tr>\n",
       "    <tr>\n",
       "      <th>1</th>\n",
       "      <td>2</td>\n",
       "      <td>1</td>\n",
       "      <td>1</td>\n",
       "      <td>Cumings, Mrs. John Bradley (Florence Briggs Th...</td>\n",
       "      <td>female</td>\n",
       "      <td>38.0</td>\n",
       "      <td>1</td>\n",
       "      <td>0</td>\n",
       "      <td>71.2833</td>\n",
       "      <td>C</td>\n",
       "    </tr>\n",
       "    <tr>\n",
       "      <th>2</th>\n",
       "      <td>3</td>\n",
       "      <td>1</td>\n",
       "      <td>3</td>\n",
       "      <td>Heikkinen, Miss. Laina</td>\n",
       "      <td>female</td>\n",
       "      <td>26.0</td>\n",
       "      <td>0</td>\n",
       "      <td>0</td>\n",
       "      <td>7.9250</td>\n",
       "      <td>S</td>\n",
       "    </tr>\n",
       "    <tr>\n",
       "      <th>3</th>\n",
       "      <td>4</td>\n",
       "      <td>1</td>\n",
       "      <td>1</td>\n",
       "      <td>Futrelle, Mrs. Jacques Heath (Lily May Peel)</td>\n",
       "      <td>female</td>\n",
       "      <td>35.0</td>\n",
       "      <td>1</td>\n",
       "      <td>0</td>\n",
       "      <td>53.1000</td>\n",
       "      <td>S</td>\n",
       "    </tr>\n",
       "    <tr>\n",
       "      <th>4</th>\n",
       "      <td>5</td>\n",
       "      <td>0</td>\n",
       "      <td>3</td>\n",
       "      <td>Allen, Mr. William Henry</td>\n",
       "      <td>male</td>\n",
       "      <td>35.0</td>\n",
       "      <td>0</td>\n",
       "      <td>0</td>\n",
       "      <td>8.0500</td>\n",
       "      <td>S</td>\n",
       "    </tr>\n",
       "  </tbody>\n",
       "</table>\n",
       "</div>"
      ],
      "text/plain": [
       "   PassengerId  Survived  Ticket Class  \\\n",
       "0            1         0             3   \n",
       "1            2         1             1   \n",
       "2            3         1             3   \n",
       "3            4         1             1   \n",
       "4            5         0             3   \n",
       "\n",
       "                                                Name     Sex   Age  \\\n",
       "0                            Braund, Mr. Owen Harris    male  22.0   \n",
       "1  Cumings, Mrs. John Bradley (Florence Briggs Th...  female  38.0   \n",
       "2                             Heikkinen, Miss. Laina  female  26.0   \n",
       "3       Futrelle, Mrs. Jacques Heath (Lily May Peel)  female  35.0   \n",
       "4                           Allen, Mr. William Henry    male  35.0   \n",
       "\n",
       "   No of sib/Spouses  No of parents/children     Fare Embarked  \n",
       "0                  1                       0   7.2500        S  \n",
       "1                  1                       0  71.2833        C  \n",
       "2                  0                       0   7.9250        S  \n",
       "3                  1                       0  53.1000        S  \n",
       "4                  0                       0   8.0500        S  "
      ]
     },
     "execution_count": 36,
     "metadata": {},
     "output_type": "execute_result"
    }
   ],
   "source": [
    "train.head()"
   ]
  },
  {
   "cell_type": "code",
   "execution_count": 37,
   "metadata": {
    "ExecuteTime": {
     "end_time": "2020-10-28T05:56:56.821190Z",
     "start_time": "2020-10-28T05:56:56.708157Z"
    }
   },
   "outputs": [],
   "source": [
    "train['Sex']=train['Sex'].replace({'male':'1','female':'0'})"
   ]
  },
  {
   "cell_type": "code",
   "execution_count": 38,
   "metadata": {
    "ExecuteTime": {
     "end_time": "2020-10-28T05:56:56.987776Z",
     "start_time": "2020-10-28T05:56:56.823848Z"
    }
   },
   "outputs": [],
   "source": [
    "encoder=LabelEncoder()\n",
    "train['Embarked']=encoder.fit(train['Embarked']).transform(train['Embarked'])"
   ]
  },
  {
   "cell_type": "code",
   "execution_count": 39,
   "metadata": {
    "ExecuteTime": {
     "end_time": "2020-10-28T05:56:57.174910Z",
     "start_time": "2020-10-28T05:56:56.990403Z"
    }
   },
   "outputs": [
    {
     "data": {
      "text/html": [
       "<div>\n",
       "<style scoped>\n",
       "    .dataframe tbody tr th:only-of-type {\n",
       "        vertical-align: middle;\n",
       "    }\n",
       "\n",
       "    .dataframe tbody tr th {\n",
       "        vertical-align: top;\n",
       "    }\n",
       "\n",
       "    .dataframe thead th {\n",
       "        text-align: right;\n",
       "    }\n",
       "</style>\n",
       "<table border=\"1\" class=\"dataframe\">\n",
       "  <thead>\n",
       "    <tr style=\"text-align: right;\">\n",
       "      <th></th>\n",
       "      <th>PassengerId</th>\n",
       "      <th>Survived</th>\n",
       "      <th>Ticket Class</th>\n",
       "      <th>Name</th>\n",
       "      <th>Sex</th>\n",
       "      <th>Age</th>\n",
       "      <th>No of sib/Spouses</th>\n",
       "      <th>No of parents/children</th>\n",
       "      <th>Fare</th>\n",
       "      <th>Embarked</th>\n",
       "    </tr>\n",
       "  </thead>\n",
       "  <tbody>\n",
       "    <tr>\n",
       "      <th>0</th>\n",
       "      <td>1</td>\n",
       "      <td>0</td>\n",
       "      <td>3</td>\n",
       "      <td>Braund, Mr. Owen Harris</td>\n",
       "      <td>1</td>\n",
       "      <td>22.0</td>\n",
       "      <td>1</td>\n",
       "      <td>0</td>\n",
       "      <td>7.2500</td>\n",
       "      <td>2</td>\n",
       "    </tr>\n",
       "    <tr>\n",
       "      <th>1</th>\n",
       "      <td>2</td>\n",
       "      <td>1</td>\n",
       "      <td>1</td>\n",
       "      <td>Cumings, Mrs. John Bradley (Florence Briggs Th...</td>\n",
       "      <td>0</td>\n",
       "      <td>38.0</td>\n",
       "      <td>1</td>\n",
       "      <td>0</td>\n",
       "      <td>71.2833</td>\n",
       "      <td>0</td>\n",
       "    </tr>\n",
       "    <tr>\n",
       "      <th>2</th>\n",
       "      <td>3</td>\n",
       "      <td>1</td>\n",
       "      <td>3</td>\n",
       "      <td>Heikkinen, Miss. Laina</td>\n",
       "      <td>0</td>\n",
       "      <td>26.0</td>\n",
       "      <td>0</td>\n",
       "      <td>0</td>\n",
       "      <td>7.9250</td>\n",
       "      <td>2</td>\n",
       "    </tr>\n",
       "    <tr>\n",
       "      <th>3</th>\n",
       "      <td>4</td>\n",
       "      <td>1</td>\n",
       "      <td>1</td>\n",
       "      <td>Futrelle, Mrs. Jacques Heath (Lily May Peel)</td>\n",
       "      <td>0</td>\n",
       "      <td>35.0</td>\n",
       "      <td>1</td>\n",
       "      <td>0</td>\n",
       "      <td>53.1000</td>\n",
       "      <td>2</td>\n",
       "    </tr>\n",
       "    <tr>\n",
       "      <th>4</th>\n",
       "      <td>5</td>\n",
       "      <td>0</td>\n",
       "      <td>3</td>\n",
       "      <td>Allen, Mr. William Henry</td>\n",
       "      <td>1</td>\n",
       "      <td>35.0</td>\n",
       "      <td>0</td>\n",
       "      <td>0</td>\n",
       "      <td>8.0500</td>\n",
       "      <td>2</td>\n",
       "    </tr>\n",
       "  </tbody>\n",
       "</table>\n",
       "</div>"
      ],
      "text/plain": [
       "   PassengerId  Survived  Ticket Class  \\\n",
       "0            1         0             3   \n",
       "1            2         1             1   \n",
       "2            3         1             3   \n",
       "3            4         1             1   \n",
       "4            5         0             3   \n",
       "\n",
       "                                                Name Sex   Age  \\\n",
       "0                            Braund, Mr. Owen Harris   1  22.0   \n",
       "1  Cumings, Mrs. John Bradley (Florence Briggs Th...   0  38.0   \n",
       "2                             Heikkinen, Miss. Laina   0  26.0   \n",
       "3       Futrelle, Mrs. Jacques Heath (Lily May Peel)   0  35.0   \n",
       "4                           Allen, Mr. William Henry   1  35.0   \n",
       "\n",
       "   No of sib/Spouses  No of parents/children     Fare  Embarked  \n",
       "0                  1                       0   7.2500         2  \n",
       "1                  1                       0  71.2833         0  \n",
       "2                  0                       0   7.9250         2  \n",
       "3                  1                       0  53.1000         2  \n",
       "4                  0                       0   8.0500         2  "
      ]
     },
     "execution_count": 39,
     "metadata": {},
     "output_type": "execute_result"
    }
   ],
   "source": [
    "train.head()"
   ]
  },
  {
   "cell_type": "code",
   "execution_count": 37,
   "metadata": {},
   "outputs": [],
   "source": [
    "#train.to_csv(r\"C:\\Users\\ritik\\Desktop\\Hackathon PS\\kaggle-titanic\\clean.csv\",index=False)"
   ]
  },
  {
   "cell_type": "code",
   "execution_count": 40,
   "metadata": {
    "ExecuteTime": {
     "end_time": "2020-10-28T05:57:02.645283Z",
     "start_time": "2020-10-28T05:57:02.616363Z"
    }
   },
   "outputs": [],
   "source": [
    "X=train[['Ticket Class','Sex','Age','No of sib/Spouses','No of parents/children','Embarked','Fare']]"
   ]
  },
  {
   "cell_type": "code",
   "execution_count": null,
   "metadata": {},
   "outputs": [],
   "source": [
    "X_new=train[['Ticket Class','Sex','Age','No of sib/Spouses','No of parents/children','Embarked','Fare']]"
   ]
  },
  {
   "cell_type": "code",
   "execution_count": 41,
   "metadata": {
    "ExecuteTime": {
     "end_time": "2020-10-28T05:57:03.529920Z",
     "start_time": "2020-10-28T05:57:03.525931Z"
    }
   },
   "outputs": [],
   "source": [
    "y=train['Survived']"
   ]
  },
  {
   "cell_type": "code",
   "execution_count": 40,
   "metadata": {},
   "outputs": [],
   "source": [
    "from sklearn.preprocessing import StandardScaler\n",
    "scaler=StandardScaler()\n",
    "X=scaler.fit(X).transform(X)"
   ]
  },
  {
   "cell_type": "code",
   "execution_count": 41,
   "metadata": {},
   "outputs": [
    {
     "name": "stdout",
     "output_type": "stream",
     "text": [
      "Size of balanced X= (1098, 7) And size of balanced y= (1098,)\n"
     ]
    }
   ],
   "source": [
    "sm=SMOTE(random_state=2)\n",
    "X_train,y_train=sm.fit_sample(X,y.ravel())\n",
    "print(\"Size of balanced X=\",X_train.shape,\"And size of balanced y=\",y_train.shape)"
   ]
  },
  {
   "cell_type": "markdown",
   "metadata": {},
   "source": [
    "# 1.Logistic Regression"
   ]
  },
  {
   "cell_type": "code",
   "execution_count": 42,
   "metadata": {},
   "outputs": [],
   "source": [
    "from sklearn.linear_model import LogisticRegression"
   ]
  },
  {
   "cell_type": "code",
   "execution_count": 43,
   "metadata": {},
   "outputs": [],
   "source": [
    "model1=LogisticRegression(C=0.01,solver='lbfgs',penalty='l2')\n",
    "model1.fit(X,y)\n",
    "y1=model1.predict(X)"
   ]
  },
  {
   "cell_type": "code",
   "execution_count": 44,
   "metadata": {
    "scrolled": true
   },
   "outputs": [
    {
     "name": "stdout",
     "output_type": "stream",
     "text": [
      "F1 Score= 0.724025974025974\n",
      "Classification Report=               precision    recall  f1-score   support\n",
      "\n",
      "           0       0.81      0.90      0.85       549\n",
      "           1       0.81      0.66      0.72       339\n",
      "\n",
      "    accuracy                           0.81       888\n",
      "   macro avg       0.81      0.78      0.79       888\n",
      "weighted avg       0.81      0.81      0.80       888\n",
      "\n"
     ]
    }
   ],
   "source": [
    "from sklearn.metrics import f1_score,classification_report,confusion_matrix\n",
    "print('F1 Score=',f1_score(y,y1))\n",
    "print('Classification Report=', classification_report(y,y1))"
   ]
  },
  {
   "cell_type": "code",
   "execution_count": 45,
   "metadata": {},
   "outputs": [],
   "source": [
    "y1_prob=model1.predict_proba(X)"
   ]
  },
  {
   "cell_type": "code",
   "execution_count": 46,
   "metadata": {},
   "outputs": [],
   "source": [
    "solvers=['liblinear','lbfgs','newton-cg']\n",
    "penalty=['l1','l2']\n",
    "c_values=[100,10,1.0,0.1,0.01]\n",
    "grid=dict(solver=solvers,penalty=penalty,C=c_values)"
   ]
  },
  {
   "cell_type": "code",
   "execution_count": 47,
   "metadata": {},
   "outputs": [],
   "source": [
    "from sklearn.model_selection import RepeatedStratifiedKFold\n",
    "from sklearn.model_selection import GridSearchCV,RandomizedSearchCV\n",
    "cv = RepeatedStratifiedKFold(n_splits=10, n_repeats=3, random_state=1)\n",
    "grid_search = GridSearchCV(estimator=model1, param_grid=grid, n_jobs=-1, cv=cv, scoring='accuracy',error_score=0)\n",
    "grid_result = grid_search.fit(X, y)"
   ]
  },
  {
   "cell_type": "code",
   "execution_count": 48,
   "metadata": {},
   "outputs": [
    {
     "name": "stdout",
     "output_type": "stream",
     "text": [
      "Best Score= 0.8014853592100782\n",
      "Best parameters= {'C': 0.01, 'penalty': 'l2', 'solver': 'lbfgs'}\n"
     ]
    }
   ],
   "source": [
    "print(\"Best Score=\",grid_result.best_score_)\n",
    "print(\"Best parameters=\",grid_result.best_params_)"
   ]
  },
  {
   "cell_type": "code",
   "execution_count": 49,
   "metadata": {},
   "outputs": [
    {
     "name": "stdout",
     "output_type": "stream",
     "text": [
      "[[495  54]\n",
      " [116 223]]\n"
     ]
    }
   ],
   "source": [
    "print(confusion_matrix(y,y1))"
   ]
  },
  {
   "cell_type": "markdown",
   "metadata": {},
   "source": [
    "# 2.Decision Tree"
   ]
  },
  {
   "cell_type": "code",
   "execution_count": 50,
   "metadata": {},
   "outputs": [],
   "source": [
    "from sklearn.tree import DecisionTreeClassifier"
   ]
  },
  {
   "cell_type": "code",
   "execution_count": 51,
   "metadata": {},
   "outputs": [],
   "source": [
    "model2=DecisionTreeClassifier()\n",
    "model2.fit(X,y)\n",
    "y2=model2.predict(X)"
   ]
  },
  {
   "cell_type": "code",
   "execution_count": 52,
   "metadata": {},
   "outputs": [
    {
     "name": "stdout",
     "output_type": "stream",
     "text": [
      "F1 Score= 0.9759759759759761\n",
      "Classification Report=               precision    recall  f1-score   support\n",
      "\n",
      "           0       0.98      1.00      0.99       549\n",
      "           1       0.99      0.96      0.98       339\n",
      "\n",
      "    accuracy                           0.98       888\n",
      "   macro avg       0.98      0.98      0.98       888\n",
      "weighted avg       0.98      0.98      0.98       888\n",
      "\n",
      "[[547   2]\n",
      " [ 14 325]]\n"
     ]
    }
   ],
   "source": [
    "print('F1 Score=',f1_score(y,y2))\n",
    "print('Classification Report=', classification_report(y,y2))\n",
    "print(confusion_matrix(y,y2))"
   ]
  },
  {
   "cell_type": "code",
   "execution_count": 53,
   "metadata": {},
   "outputs": [],
   "source": [
    "from sklearn import tree"
   ]
  },
  {
   "cell_type": "code",
   "execution_count": 54,
   "metadata": {},
   "outputs": [
    {
     "data": {
      "text/plain": [
       "[Text(163.5735008051718, 212.004, 'X[1] <= -0.309\\ngini = 0.472\\nsamples = 888\\nvalue = [549, 339]'),\n",
       " Text(56.445929798356985, 201.132, 'X[0] <= 0.224\\ngini = 0.384\\nsamples = 313\\nvalue = [81, 232]'),\n",
       " Text(26.003883495145633, 190.26, 'X[6] <= -0.042\\ngini = 0.101\\nsamples = 169\\nvalue = [9, 160]'),\n",
       " Text(22.003286034353998, 179.388, 'X[6] <= -0.057\\ngini = 0.18\\nsamples = 70\\nvalue = [7, 63]'),\n",
       " Text(20.00298730395818, 168.516, 'X[2] <= 1.831\\ngini = 0.159\\nsamples = 69\\nvalue = [6, 63]'),\n",
       " Text(14.002091112770726, 157.644, 'X[3] <= -0.022\\ngini = 0.138\\nsamples = 67\\nvalue = [5, 62]'),\n",
       " Text(8.001194921583272, 146.772, 'X[6] <= -0.421\\ngini = 0.085\\nsamples = 45\\nvalue = [2, 43]'),\n",
       " Text(6.000896191187454, 135.9, 'X[6] <= -0.431\\ngini = 0.147\\nsamples = 25\\nvalue = [2, 23]'),\n",
       " Text(4.000597460791636, 125.02799999999999, 'gini = 0.0\\nsamples = 11\\nvalue = [0, 11]'),\n",
       " Text(8.001194921583272, 125.02799999999999, 'X[2] <= 0.127\\ngini = 0.245\\nsamples = 14\\nvalue = [2, 12]'),\n",
       " Text(4.000597460791636, 114.156, 'X[4] <= 0.767\\ngini = 0.444\\nsamples = 3\\nvalue = [1, 2]'),\n",
       " Text(2.000298730395818, 103.28399999999999, 'gini = 0.5\\nsamples = 2\\nvalue = [1, 1]'),\n",
       " Text(6.000896191187454, 103.28399999999999, 'gini = 0.0\\nsamples = 1\\nvalue = [0, 1]'),\n",
       " Text(12.001792382374909, 114.156, 'X[2] <= 0.752\\ngini = 0.165\\nsamples = 11\\nvalue = [1, 10]'),\n",
       " Text(10.00149365197909, 103.28399999999999, 'gini = 0.0\\nsamples = 8\\nvalue = [0, 8]'),\n",
       " Text(14.002091112770726, 103.28399999999999, 'X[2] <= 0.866\\ngini = 0.444\\nsamples = 3\\nvalue = [1, 2]'),\n",
       " Text(12.001792382374909, 92.412, 'gini = 0.0\\nsamples = 1\\nvalue = [1, 0]'),\n",
       " Text(16.002389843166544, 92.412, 'gini = 0.0\\nsamples = 2\\nvalue = [0, 2]'),\n",
       " Text(10.00149365197909, 135.9, 'gini = 0.0\\nsamples = 20\\nvalue = [0, 20]'),\n",
       " Text(20.00298730395818, 146.772, 'X[2] <= 0.07\\ngini = 0.236\\nsamples = 22\\nvalue = [3, 19]'),\n",
       " Text(18.002688573562363, 135.9, 'gini = 0.0\\nsamples = 7\\nvalue = [0, 7]'),\n",
       " Text(22.003286034353998, 135.9, 'X[2] <= 0.212\\ngini = 0.32\\nsamples = 15\\nvalue = [3, 12]'),\n",
       " Text(18.002688573562363, 125.02799999999999, 'X[5] <= -0.688\\ngini = 0.444\\nsamples = 3\\nvalue = [2, 1]'),\n",
       " Text(16.002389843166544, 114.156, 'gini = 0.0\\nsamples = 1\\nvalue = [0, 1]'),\n",
       " Text(20.00298730395818, 114.156, 'gini = 0.0\\nsamples = 2\\nvalue = [2, 0]'),\n",
       " Text(26.003883495145633, 125.02799999999999, 'X[2] <= 1.093\\ngini = 0.153\\nsamples = 12\\nvalue = [1, 11]'),\n",
       " Text(24.003584764749817, 114.156, 'gini = 0.0\\nsamples = 9\\nvalue = [0, 9]'),\n",
       " Text(28.004182225541452, 114.156, 'X[2] <= 1.178\\ngini = 0.444\\nsamples = 3\\nvalue = [1, 2]'),\n",
       " Text(26.003883495145633, 103.28399999999999, 'gini = 0.0\\nsamples = 1\\nvalue = [1, 0]'),\n",
       " Text(30.004480955937268, 103.28399999999999, 'gini = 0.0\\nsamples = 2\\nvalue = [0, 2]'),\n",
       " Text(26.003883495145633, 157.644, 'X[2] <= 1.917\\ngini = 0.5\\nsamples = 2\\nvalue = [1, 1]'),\n",
       " Text(24.003584764749817, 146.772, 'gini = 0.0\\nsamples = 1\\nvalue = [1, 0]'),\n",
       " Text(28.004182225541452, 146.772, 'gini = 0.0\\nsamples = 1\\nvalue = [0, 1]'),\n",
       " Text(24.003584764749817, 168.516, 'gini = 0.0\\nsamples = 1\\nvalue = [1, 0]'),\n",
       " Text(30.004480955937268, 179.388, 'X[4] <= 1.387\\ngini = 0.04\\nsamples = 99\\nvalue = [2, 97]'),\n",
       " Text(28.004182225541452, 168.516, 'gini = 0.0\\nsamples = 83\\nvalue = [0, 83]'),\n",
       " Text(32.00477968633309, 168.516, 'X[2] <= -1.208\\ngini = 0.219\\nsamples = 16\\nvalue = [2, 14]'),\n",
       " Text(30.004480955937268, 157.644, 'gini = 0.0\\nsamples = 1\\nvalue = [1, 0]'),\n",
       " Text(34.00507841672891, 157.644, 'X[2] <= 0.042\\ngini = 0.124\\nsamples = 15\\nvalue = [1, 14]'),\n",
       " Text(32.00477968633309, 146.772, 'gini = 0.0\\nsamples = 10\\nvalue = [0, 10]'),\n",
       " Text(36.005377147124726, 146.772, 'X[2] <= 0.241\\ngini = 0.32\\nsamples = 5\\nvalue = [1, 4]'),\n",
       " Text(34.00507841672891, 135.9, 'gini = 0.0\\nsamples = 1\\nvalue = [1, 0]'),\n",
       " Text(38.00567587752054, 135.9, 'gini = 0.0\\nsamples = 4\\nvalue = [0, 4]'),\n",
       " Text(86.88797610156834, 190.26, 'X[6] <= -0.176\\ngini = 0.5\\nsamples = 144\\nvalue = [72, 72]'),\n",
       " Text(73.26094100074684, 179.388, 'X[2] <= -0.412\\ngini = 0.484\\nsamples = 117\\nvalue = [48, 69]'),\n",
       " Text(54.008065720687085, 168.516, 'X[3] <= 1.79\\ngini = 0.404\\nsamples = 57\\nvalue = [16, 41]'),\n",
       " Text(52.007766990291266, 157.644, 'X[6] <= -0.37\\ngini = 0.38\\nsamples = 55\\nvalue = [14, 41]'),\n",
       " Text(50.00746825989545, 146.772, 'X[6] <= -0.405\\ngini = 0.45\\nsamples = 41\\nvalue = [14, 27]'),\n",
       " Text(45.0067214339059, 135.9, 'X[5] <= -0.053\\ngini = 0.382\\nsamples = 35\\nvalue = [9, 26]'),\n",
       " Text(41.00612397311427, 125.02799999999999, 'X[4] <= 1.387\\ngini = 0.252\\nsamples = 27\\nvalue = [4, 23]'),\n",
       " Text(39.00582524271845, 114.156, 'X[6] <= -0.547\\ngini = 0.204\\nsamples = 26\\nvalue = [3, 23]'),\n",
       " Text(34.00507841672891, 103.28399999999999, 'X[6] <= -0.556\\ngini = 0.159\\nsamples = 23\\nvalue = [2, 21]'),\n",
       " Text(30.004480955937268, 92.412, 'X[5] <= -1.323\\ngini = 0.32\\nsamples = 5\\nvalue = [1, 4]'),\n",
       " Text(28.004182225541452, 81.53999999999999, 'gini = 0.0\\nsamples = 4\\nvalue = [0, 4]'),\n",
       " Text(32.00477968633309, 81.53999999999999, 'gini = 0.0\\nsamples = 1\\nvalue = [1, 0]'),\n",
       " Text(38.00567587752054, 92.412, 'X[6] <= -0.554\\ngini = 0.105\\nsamples = 18\\nvalue = [1, 17]'),\n",
       " Text(36.005377147124726, 81.53999999999999, 'X[6] <= -0.555\\ngini = 0.153\\nsamples = 12\\nvalue = [1, 11]'),\n",
       " Text(34.00507841672891, 70.668, 'gini = 0.0\\nsamples = 3\\nvalue = [0, 3]'),\n",
       " Text(38.00567587752054, 70.668, 'X[2] <= -0.895\\ngini = 0.198\\nsamples = 9\\nvalue = [1, 8]'),\n",
       " Text(36.005377147124726, 59.79599999999999, 'gini = 0.219\\nsamples = 8\\nvalue = [1, 7]'),\n",
       " Text(40.00597460791636, 59.79599999999999, 'gini = 0.0\\nsamples = 1\\nvalue = [0, 1]'),\n",
       " Text(40.00597460791636, 81.53999999999999, 'gini = 0.0\\nsamples = 6\\nvalue = [0, 6]'),\n",
       " Text(44.006572068707996, 103.28399999999999, 'X[5] <= -1.323\\ngini = 0.444\\nsamples = 3\\nvalue = [1, 2]'),\n",
       " Text(42.00627333831218, 92.412, 'gini = 0.0\\nsamples = 2\\nvalue = [0, 2]'),\n",
       " Text(46.006870799103815, 92.412, 'gini = 0.0\\nsamples = 1\\nvalue = [1, 0]'),\n",
       " Text(43.00642270351008, 114.156, 'gini = 0.0\\nsamples = 1\\nvalue = [1, 0]'),\n",
       " Text(49.00731889469754, 125.02799999999999, 'X[6] <= -0.481\\ngini = 0.469\\nsamples = 8\\nvalue = [5, 3]'),\n",
       " Text(47.00702016430172, 114.156, 'gini = 0.0\\nsamples = 5\\nvalue = [5, 0]'),\n",
       " Text(51.00761762509336, 114.156, 'gini = 0.0\\nsamples = 3\\nvalue = [0, 3]'),\n",
       " Text(55.00821508588499, 135.9, 'X[2] <= -0.512\\ngini = 0.278\\nsamples = 6\\nvalue = [5, 1]'),\n",
       " Text(53.00791635548918, 125.02799999999999, 'gini = 0.0\\nsamples = 5\\nvalue = [5, 0]'),\n",
       " Text(57.00851381628081, 125.02799999999999, 'gini = 0.0\\nsamples = 1\\nvalue = [0, 1]'),\n",
       " Text(54.008065720687085, 146.772, 'gini = 0.0\\nsamples = 14\\nvalue = [0, 14]'),\n",
       " Text(56.008364451082905, 157.644, 'gini = 0.0\\nsamples = 2\\nvalue = [2, 0]'),\n",
       " Text(92.51381628080658, 168.516, 'X[2] <= 0.724\\ngini = 0.498\\nsamples = 60\\nvalue = [32, 28]'),\n",
       " Text(88.51321882001494, 157.644, 'X[2] <= 0.496\\ngini = 0.5\\nsamples = 53\\nvalue = [26, 27]'),\n",
       " Text(86.51292008961913, 146.772, 'X[4] <= 1.387\\ngini = 0.499\\nsamples = 50\\nvalue = [26, 24]'),\n",
       " Text(76.01135175504108, 135.9, 'X[6] <= -0.551\\ngini = 0.491\\nsamples = 44\\nvalue = [25, 19]'),\n",
       " Text(61.00911127707245, 125.02799999999999, 'X[2] <= 0.255\\ngini = 0.469\\nsamples = 16\\nvalue = [6, 10]'),\n",
       " Text(59.00881254667663, 114.156, 'X[2] <= -0.299\\ngini = 0.408\\nsamples = 14\\nvalue = [4, 10]'),\n",
       " Text(52.007766990291266, 103.28399999999999, 'X[6] <= -0.57\\ngini = 0.444\\nsamples = 3\\nvalue = [2, 1]'),\n",
       " Text(50.00746825989545, 92.412, 'gini = 0.0\\nsamples = 1\\nvalue = [1, 0]'),\n",
       " Text(54.008065720687085, 92.412, 'X[6] <= -0.558\\ngini = 0.5\\nsamples = 2\\nvalue = [1, 1]'),\n",
       " Text(52.007766990291266, 81.53999999999999, 'gini = 0.0\\nsamples = 1\\nvalue = [0, 1]'),\n",
       " Text(56.008364451082905, 81.53999999999999, 'gini = 0.0\\nsamples = 1\\nvalue = [1, 0]'),\n",
       " Text(66.00985810306199, 103.28399999999999, 'X[2] <= 0.014\\ngini = 0.298\\nsamples = 11\\nvalue = [2, 9]'),\n",
       " Text(62.009260642270355, 92.412, 'X[5] <= -0.053\\ngini = 0.198\\nsamples = 9\\nvalue = [1, 8]'),\n",
       " Text(60.008961911874536, 81.53999999999999, 'X[2] <= -0.214\\ngini = 0.444\\nsamples = 3\\nvalue = [1, 2]'),\n",
       " Text(58.008663181478724, 70.668, 'gini = 0.0\\nsamples = 1\\nvalue = [0, 1]'),\n",
       " Text(62.009260642270355, 70.668, 'X[2] <= -0.128\\ngini = 0.5\\nsamples = 2\\nvalue = [1, 1]'),\n",
       " Text(60.008961911874536, 59.79599999999999, 'gini = 0.0\\nsamples = 1\\nvalue = [1, 0]'),\n",
       " Text(64.00955937266617, 59.79599999999999, 'gini = 0.0\\nsamples = 1\\nvalue = [0, 1]'),\n",
       " Text(64.00955937266617, 81.53999999999999, 'gini = 0.0\\nsamples = 6\\nvalue = [0, 6]'),\n",
       " Text(70.01045556385363, 92.412, 'X[2] <= 0.099\\ngini = 0.5\\nsamples = 2\\nvalue = [1, 1]'),\n",
       " Text(68.01015683345781, 81.53999999999999, 'gini = 0.0\\nsamples = 1\\nvalue = [1, 0]'),\n",
       " Text(72.01075429424945, 81.53999999999999, 'gini = 0.0\\nsamples = 1\\nvalue = [0, 1]'),\n",
       " Text(63.00941000746827, 114.156, 'gini = 0.0\\nsamples = 2\\nvalue = [2, 0]'),\n",
       " Text(91.01359223300972, 125.02799999999999, 'X[3] <= -0.022\\ngini = 0.436\\nsamples = 28\\nvalue = [19, 9]'),\n",
       " Text(84.01254667662435, 114.156, 'X[2] <= 0.07\\ngini = 0.492\\nsamples = 16\\nvalue = [9, 7]'),\n",
       " Text(80.01194921583271, 103.28399999999999, 'X[2] <= -0.27\\ngini = 0.346\\nsamples = 9\\nvalue = [7, 2]'),\n",
       " Text(78.0116504854369, 92.412, 'X[5] <= -0.688\\ngini = 0.5\\nsamples = 4\\nvalue = [2, 2]'),\n",
       " Text(76.01135175504108, 81.53999999999999, 'gini = 0.0\\nsamples = 2\\nvalue = [2, 0]'),\n",
       " Text(80.01194921583271, 81.53999999999999, 'gini = 0.0\\nsamples = 2\\nvalue = [0, 2]'),\n",
       " Text(82.01224794622854, 92.412, 'gini = 0.0\\nsamples = 5\\nvalue = [5, 0]'),\n",
       " Text(88.01314413741599, 103.28399999999999, 'X[6] <= -0.551\\ngini = 0.408\\nsamples = 7\\nvalue = [2, 5]'),\n",
       " Text(86.01284540702017, 92.412, 'gini = 0.0\\nsamples = 1\\nvalue = [1, 0]'),\n",
       " Text(90.0134428678118, 92.412, 'X[6] <= -0.532\\ngini = 0.278\\nsamples = 6\\nvalue = [1, 5]'),\n",
       " Text(88.01314413741599, 81.53999999999999, 'X[2] <= 0.269\\ngini = 0.444\\nsamples = 3\\nvalue = [1, 2]'),\n",
       " Text(86.01284540702017, 70.668, 'gini = 0.0\\nsamples = 2\\nvalue = [0, 2]'),\n",
       " Text(90.0134428678118, 70.668, 'gini = 0.0\\nsamples = 1\\nvalue = [1, 0]'),\n",
       " Text(92.01374159820763, 81.53999999999999, 'gini = 0.0\\nsamples = 3\\nvalue = [0, 3]'),\n",
       " Text(98.01463778939508, 114.156, 'X[6] <= -0.275\\ngini = 0.278\\nsamples = 12\\nvalue = [10, 2]'),\n",
       " Text(96.01433905899927, 103.28399999999999, 'X[6] <= -0.362\\ngini = 0.165\\nsamples = 11\\nvalue = [10, 1]'),\n",
       " Text(94.01404032860344, 92.412, 'gini = 0.0\\nsamples = 6\\nvalue = [6, 0]'),\n",
       " Text(98.01463778939508, 92.412, 'X[6] <= -0.355\\ngini = 0.32\\nsamples = 5\\nvalue = [4, 1]'),\n",
       " Text(96.01433905899927, 81.53999999999999, 'gini = 0.0\\nsamples = 1\\nvalue = [0, 1]'),\n",
       " Text(100.0149365197909, 81.53999999999999, 'gini = 0.0\\nsamples = 4\\nvalue = [4, 0]'),\n",
       " Text(100.0149365197909, 103.28399999999999, 'gini = 0.0\\nsamples = 1\\nvalue = [0, 1]'),\n",
       " Text(97.01448842419717, 135.9, 'X[6] <= -0.253\\ngini = 0.278\\nsamples = 6\\nvalue = [1, 5]'),\n",
       " Text(95.01418969380136, 125.02799999999999, 'gini = 0.0\\nsamples = 5\\nvalue = [0, 5]'),\n",
       " Text(99.014787154593, 125.02799999999999, 'gini = 0.0\\nsamples = 1\\nvalue = [1, 0]'),\n",
       " Text(90.51351755041077, 146.772, 'gini = 0.0\\nsamples = 3\\nvalue = [0, 3]'),\n",
       " Text(96.51441374159822, 157.644, 'X[2] <= 1.775\\ngini = 0.245\\nsamples = 7\\nvalue = [6, 1]'),\n",
       " Text(94.51411501120239, 146.772, 'gini = 0.0\\nsamples = 6\\nvalue = [6, 0]'),\n",
       " Text(98.51471247199403, 146.772, 'gini = 0.0\\nsamples = 1\\nvalue = [0, 1]'),\n",
       " Text(100.51501120238986, 179.388, 'X[4] <= 0.147\\ngini = 0.198\\nsamples = 27\\nvalue = [24, 3]'),\n",
       " Text(98.51471247199403, 168.516, 'gini = 0.0\\nsamples = 1\\nvalue = [0, 1]'),\n",
       " Text(102.51530993278567, 168.516, 'X[6] <= 0.018\\ngini = 0.142\\nsamples = 26\\nvalue = [24, 2]'),\n",
       " Text(100.51501120238986, 157.644, 'gini = 0.0\\nsamples = 15\\nvalue = [15, 0]'),\n",
       " Text(104.51560866318148, 157.644, 'X[6] <= 0.056\\ngini = 0.298\\nsamples = 11\\nvalue = [9, 2]'),\n",
       " Text(102.51530993278567, 146.772, 'gini = 0.0\\nsamples = 2\\nvalue = [0, 2]'),\n",
       " Text(106.51590739357731, 146.772, 'gini = 0.0\\nsamples = 9\\nvalue = [9, 0]'),\n",
       " Text(270.7010718119866, 201.132, 'X[6] <= -0.105\\ngini = 0.303\\nsamples = 575\\nvalue = [468, 107]'),\n",
       " Text(229.26177767923826, 190.26, 'X[4] <= 0.147\\ngini = 0.226\\nsamples = 415\\nvalue = [361, 54]'),\n",
       " Text(204.7356539395071, 179.388, 'X[2] <= 0.496\\ngini = 0.184\\nsamples = 380\\nvalue = [341, 39]'),\n",
       " Text(179.68699122479464, 168.516, 'X[2] <= 0.397\\ngini = 0.205\\nsamples = 284\\nvalue = [251, 33]'),\n",
       " Text(149.59265309932786, 157.644, 'X[5] <= -1.323\\ngini = 0.181\\nsamples = 268\\nvalue = [241, 27]'),\n",
       " Text(117.01747572815535, 146.772, 'X[2] <= -0.696\\ngini = 0.32\\nsamples = 35\\nvalue = [28, 7]'),\n",
       " Text(108.01613144137417, 135.9, 'X[0] <= 0.224\\ngini = 0.188\\nsamples = 19\\nvalue = [17, 2]'),\n",
       " Text(104.01553398058253, 125.02799999999999, 'X[6] <= -0.392\\ngini = 0.5\\nsamples = 2\\nvalue = [1, 1]'),\n",
       " Text(102.01523525018672, 114.156, 'gini = 0.0\\nsamples = 1\\nvalue = [0, 1]'),\n",
       " Text(106.01583271097836, 114.156, 'gini = 0.0\\nsamples = 1\\nvalue = [1, 0]'),\n",
       " Text(112.01672890216581, 125.02799999999999, 'X[6] <= -0.559\\ngini = 0.111\\nsamples = 17\\nvalue = [16, 1]'),\n",
       " Text(110.01643017176998, 114.156, 'X[6] <= -0.568\\ngini = 0.165\\nsamples = 11\\nvalue = [10, 1]'),\n",
       " Text(108.01613144137417, 103.28399999999999, 'gini = 0.0\\nsamples = 5\\nvalue = [5, 0]'),\n",
       " Text(112.01672890216581, 103.28399999999999, 'gini = 0.278\\nsamples = 6\\nvalue = [5, 1]'),\n",
       " Text(114.01702763256162, 114.156, 'gini = 0.0\\nsamples = 6\\nvalue = [6, 0]'),\n",
       " Text(126.01882001493654, 135.9, 'X[2] <= -0.072\\ngini = 0.43\\nsamples = 16\\nvalue = [11, 5]'),\n",
       " Text(120.01792382374907, 125.02799999999999, 'X[6] <= -0.607\\ngini = 0.48\\nsamples = 5\\nvalue = [2, 3]'),\n",
       " Text(118.01762509335326, 114.156, 'gini = 0.0\\nsamples = 1\\nvalue = [1, 0]'),\n",
       " Text(122.0182225541449, 114.156, 'X[2] <= -0.157\\ngini = 0.375\\nsamples = 4\\nvalue = [1, 3]'),\n",
       " Text(120.01792382374907, 103.28399999999999, 'gini = 0.0\\nsamples = 2\\nvalue = [0, 2]'),\n",
       " Text(124.01852128454071, 103.28399999999999, 'X[6] <= -0.568\\ngini = 0.5\\nsamples = 2\\nvalue = [1, 1]'),\n",
       " Text(122.0182225541449, 92.412, 'gini = 0.0\\nsamples = 1\\nvalue = [0, 1]'),\n",
       " Text(126.01882001493654, 92.412, 'gini = 0.0\\nsamples = 1\\nvalue = [1, 0]'),\n",
       " Text(132.01971620612397, 125.02799999999999, 'X[6] <= -0.559\\ngini = 0.298\\nsamples = 11\\nvalue = [9, 2]'),\n",
       " Text(130.01941747572818, 114.156, 'gini = 0.0\\nsamples = 5\\nvalue = [5, 0]'),\n",
       " Text(134.0200149365198, 114.156, 'X[3] <= -0.022\\ngini = 0.444\\nsamples = 6\\nvalue = [4, 2]'),\n",
       " Text(132.01971620612397, 103.28399999999999, 'X[0] <= 0.224\\ngini = 0.444\\nsamples = 3\\nvalue = [1, 2]'),\n",
       " Text(130.01941747572818, 92.412, 'gini = 0.0\\nsamples = 1\\nvalue = [1, 0]'),\n",
       " Text(134.0200149365198, 92.412, 'gini = 0.0\\nsamples = 2\\nvalue = [0, 2]'),\n",
       " Text(136.02031366691563, 103.28399999999999, 'gini = 0.0\\nsamples = 3\\nvalue = [3, 0]'),\n",
       " Text(182.16783047050038, 146.772, 'X[2] <= 0.156\\ngini = 0.157\\nsamples = 233\\nvalue = [213, 20]'),\n",
       " Text(174.55731889469754, 135.9, 'X[3] <= 0.884\\ngini = 0.135\\nsamples = 193\\nvalue = [179, 14]'),\n",
       " Text(165.33719193427933, 125.02799999999999, 'X[6] <= -0.545\\ngini = 0.128\\nsamples = 189\\nvalue = [176, 13]'),\n",
       " Text(152.89783420463033, 114.156, 'X[6] <= -0.547\\ngini = 0.155\\nsamples = 130\\nvalue = [119, 11]'),\n",
       " Text(150.89753547423453, 103.28399999999999, 'X[3] <= -0.022\\ngini = 0.143\\nsamples = 129\\nvalue = [119, 10]'),\n",
       " Text(138.02061239731145, 92.412, 'X[2] <= -0.895\\ngini = 0.123\\nsamples = 121\\nvalue = [113, 8]'),\n",
       " Text(131.7696788648245, 81.53999999999999, 'X[6] <= -0.554\\ngini = 0.067\\nsamples = 58\\nvalue = [56, 2]'),\n",
       " Text(129.7693801344287, 70.668, 'X[6] <= -0.555\\ngini = 0.117\\nsamples = 32\\nvalue = [30, 2]'),\n",
       " Text(127.76908140403287, 59.79599999999999, 'X[6] <= -0.555\\ngini = 0.064\\nsamples = 30\\nvalue = [29, 1]'),\n",
       " Text(125.76878267363705, 48.92400000000001, 'gini = 0.0\\nsamples = 20\\nvalue = [20, 0]'),\n",
       " Text(129.7693801344287, 48.92400000000001, 'gini = 0.18\\nsamples = 10\\nvalue = [9, 1]'),\n",
       " Text(131.7696788648245, 59.79599999999999, 'gini = 0.5\\nsamples = 2\\nvalue = [1, 1]'),\n",
       " Text(133.76997759522033, 70.668, 'gini = 0.0\\nsamples = 26\\nvalue = [26, 0]'),\n",
       " Text(144.27154592979838, 81.53999999999999, 'X[6] <= -0.661\\ngini = 0.172\\nsamples = 63\\nvalue = [57, 6]'),\n",
       " Text(137.77057505601195, 70.668, 'X[2] <= -0.1\\ngini = 0.5\\nsamples = 2\\nvalue = [1, 1]'),\n",
       " Text(135.77027632561615, 59.79599999999999, 'gini = 0.0\\nsamples = 1\\nvalue = [1, 0]'),\n",
       " Text(139.77087378640778, 59.79599999999999, 'gini = 0.0\\nsamples = 1\\nvalue = [0, 1]'),\n",
       " Text(150.77251680358478, 70.668, 'X[6] <= -0.549\\ngini = 0.15\\nsamples = 61\\nvalue = [56, 5]'),\n",
       " Text(143.77147124719943, 59.79599999999999, 'X[6] <= -0.568\\ngini = 0.08\\nsamples = 48\\nvalue = [46, 2]'),\n",
       " Text(139.77087378640778, 48.92400000000001, 'X[6] <= -0.57\\ngini = 0.219\\nsamples = 8\\nvalue = [7, 1]'),\n",
       " Text(137.77057505601195, 38.05199999999999, 'gini = 0.0\\nsamples = 7\\nvalue = [7, 0]'),\n",
       " Text(141.7711725168036, 38.05199999999999, 'gini = 0.0\\nsamples = 1\\nvalue = [0, 1]'),\n",
       " Text(147.77206870799105, 48.92400000000001, 'X[6] <= -0.554\\ngini = 0.049\\nsamples = 40\\nvalue = [39, 1]'),\n",
       " Text(145.77176997759523, 38.05199999999999, 'X[6] <= -0.554\\ngini = 0.091\\nsamples = 21\\nvalue = [20, 1]'),\n",
       " Text(143.77147124719943, 27.180000000000007, 'gini = 0.0\\nsamples = 17\\nvalue = [17, 0]'),\n",
       " Text(147.77206870799105, 27.180000000000007, 'X[2] <= -0.128\\ngini = 0.375\\nsamples = 4\\nvalue = [3, 1]'),\n",
       " Text(145.77176997759523, 16.307999999999993, 'X[2] <= -0.242\\ngini = 0.5\\nsamples = 2\\nvalue = [1, 1]'),\n",
       " Text(143.77147124719943, 5.436000000000007, 'gini = 0.0\\nsamples = 1\\nvalue = [1, 0]'),\n",
       " Text(147.77206870799105, 5.436000000000007, 'gini = 0.0\\nsamples = 1\\nvalue = [0, 1]'),\n",
       " Text(149.77236743838688, 16.307999999999993, 'gini = 0.0\\nsamples = 2\\nvalue = [2, 0]'),\n",
       " Text(149.77236743838688, 38.05199999999999, 'gini = 0.0\\nsamples = 19\\nvalue = [19, 0]'),\n",
       " Text(157.77356235997013, 59.79599999999999, 'X[2] <= -0.242\\ngini = 0.355\\nsamples = 13\\nvalue = [10, 3]'),\n",
       " Text(155.77326362957433, 48.92400000000001, 'X[2] <= -0.384\\ngini = 0.48\\nsamples = 5\\nvalue = [2, 3]'),\n",
       " Text(153.7729648991785, 38.05199999999999, 'gini = 0.5\\nsamples = 2\\nvalue = [1, 1]'),\n",
       " Text(157.77356235997013, 38.05199999999999, 'X[2] <= -0.299\\ngini = 0.444\\nsamples = 3\\nvalue = [1, 2]'),\n",
       " Text(155.77326362957433, 27.180000000000007, 'gini = 0.0\\nsamples = 1\\nvalue = [0, 1]'),\n",
       " Text(159.77386109036595, 27.180000000000007, 'gini = 0.5\\nsamples = 2\\nvalue = [1, 1]'),\n",
       " Text(159.77386109036595, 48.92400000000001, 'gini = 0.0\\nsamples = 8\\nvalue = [8, 0]'),\n",
       " Text(163.7744585511576, 92.412, 'X[6] <= -0.551\\ngini = 0.375\\nsamples = 8\\nvalue = [6, 2]'),\n",
       " Text(161.77415982076178, 81.53999999999999, 'X[2] <= -0.015\\ngini = 0.245\\nsamples = 7\\nvalue = [6, 1]'),\n",
       " Text(159.77386109036595, 70.668, 'gini = 0.0\\nsamples = 4\\nvalue = [4, 0]'),\n",
       " Text(163.7744585511576, 70.668, 'X[2] <= 0.099\\ngini = 0.444\\nsamples = 3\\nvalue = [2, 1]'),\n",
       " Text(161.77415982076178, 59.79599999999999, 'gini = 0.5\\nsamples = 2\\nvalue = [1, 1]'),\n",
       " Text(165.7747572815534, 59.79599999999999, 'gini = 0.0\\nsamples = 1\\nvalue = [1, 0]'),\n",
       " Text(165.7747572815534, 81.53999999999999, 'gini = 0.0\\nsamples = 1\\nvalue = [0, 1]'),\n",
       " Text(154.89813293502615, 103.28399999999999, 'gini = 0.0\\nsamples = 1\\nvalue = [0, 1]'),\n",
       " Text(177.7765496639283, 114.156, 'X[0] <= 0.224\\ngini = 0.065\\nsamples = 59\\nvalue = [57, 2]'),\n",
       " Text(175.7762509335325, 103.28399999999999, 'X[2] <= -0.895\\ngini = 0.159\\nsamples = 23\\nvalue = [21, 2]'),\n",
       " Text(171.77565347274086, 92.412, 'X[6] <= -0.27\\ngini = 0.444\\nsamples = 3\\nvalue = [2, 1]'),\n",
       " Text(169.77535474234506, 81.53999999999999, 'gini = 0.0\\nsamples = 1\\nvalue = [0, 1]'),\n",
       " Text(173.77595220313668, 81.53999999999999, 'gini = 0.0\\nsamples = 2\\nvalue = [2, 0]'),\n",
       " Text(179.77684839432413, 92.412, 'X[6] <= -0.476\\ngini = 0.095\\nsamples = 20\\nvalue = [19, 1]'),\n",
       " Text(177.7765496639283, 81.53999999999999, 'X[2] <= -0.157\\ngini = 0.278\\nsamples = 6\\nvalue = [5, 1]'),\n",
       " Text(175.7762509335325, 70.668, 'X[2] <= -0.356\\ngini = 0.444\\nsamples = 3\\nvalue = [2, 1]'),\n",
       " Text(173.77595220313668, 59.79599999999999, 'gini = 0.0\\nsamples = 1\\nvalue = [1, 0]'),\n",
       " Text(177.7765496639283, 59.79599999999999, 'gini = 0.5\\nsamples = 2\\nvalue = [1, 1]'),\n",
       " Text(179.77684839432413, 70.668, 'gini = 0.0\\nsamples = 3\\nvalue = [3, 0]'),\n",
       " Text(181.77714712471996, 81.53999999999999, 'gini = 0.0\\nsamples = 14\\nvalue = [14, 0]'),\n",
       " Text(179.77684839432413, 103.28399999999999, 'gini = 0.0\\nsamples = 36\\nvalue = [36, 0]'),\n",
       " Text(183.7774458551158, 125.02799999999999, 'X[5] <= -0.053\\ngini = 0.375\\nsamples = 4\\nvalue = [3, 1]'),\n",
       " Text(181.77714712471996, 114.156, 'gini = 0.0\\nsamples = 1\\nvalue = [0, 1]'),\n",
       " Text(185.77774458551158, 114.156, 'gini = 0.0\\nsamples = 3\\nvalue = [3, 0]'),\n",
       " Text(189.77834204630324, 135.9, 'X[6] <= -0.573\\ngini = 0.255\\nsamples = 40\\nvalue = [34, 6]'),\n",
       " Text(187.7780433159074, 125.02799999999999, 'gini = 0.0\\nsamples = 1\\nvalue = [0, 1]'),\n",
       " Text(191.77864077669904, 125.02799999999999, 'X[5] <= -0.053\\ngini = 0.224\\nsamples = 39\\nvalue = [34, 5]'),\n",
       " Text(189.77834204630324, 114.156, 'gini = 0.0\\nsamples = 1\\nvalue = [0, 1]'),\n",
       " Text(193.77893950709486, 114.156, 'X[2] <= 0.212\\ngini = 0.188\\nsamples = 38\\nvalue = [34, 4]'),\n",
       " Text(189.77834204630324, 103.28399999999999, 'X[6] <= -0.48\\ngini = 0.444\\nsamples = 6\\nvalue = [4, 2]'),\n",
       " Text(187.7780433159074, 92.412, 'X[6] <= -0.552\\ngini = 0.444\\nsamples = 3\\nvalue = [1, 2]'),\n",
       " Text(185.77774458551158, 81.53999999999999, 'gini = 0.0\\nsamples = 1\\nvalue = [0, 1]'),\n",
       " Text(189.77834204630324, 81.53999999999999, 'X[6] <= -0.542\\ngini = 0.5\\nsamples = 2\\nvalue = [1, 1]'),\n",
       " Text(187.7780433159074, 70.668, 'gini = 0.0\\nsamples = 1\\nvalue = [1, 0]'),\n",
       " Text(191.77864077669904, 70.668, 'gini = 0.0\\nsamples = 1\\nvalue = [0, 1]'),\n",
       " Text(191.77864077669904, 92.412, 'gini = 0.0\\nsamples = 3\\nvalue = [3, 0]'),\n",
       " Text(197.77953696788651, 103.28399999999999, 'X[6] <= -0.512\\ngini = 0.117\\nsamples = 32\\nvalue = [30, 2]'),\n",
       " Text(195.7792382374907, 92.412, 'gini = 0.0\\nsamples = 15\\nvalue = [15, 0]'),\n",
       " Text(199.7798356982823, 92.412, 'X[6] <= -0.5\\ngini = 0.208\\nsamples = 17\\nvalue = [15, 2]'),\n",
       " Text(197.77953696788651, 81.53999999999999, 'X[2] <= 0.269\\ngini = 0.5\\nsamples = 4\\nvalue = [2, 2]'),\n",
       " Text(195.7792382374907, 70.668, 'gini = 0.0\\nsamples = 2\\nvalue = [2, 0]'),\n",
       " Text(199.7798356982823, 70.668, 'gini = 0.0\\nsamples = 2\\nvalue = [0, 2]'),\n",
       " Text(201.78013442867814, 81.53999999999999, 'gini = 0.0\\nsamples = 13\\nvalue = [13, 0]'),\n",
       " Text(209.78132935026142, 157.644, 'X[6] <= -0.553\\ngini = 0.469\\nsamples = 16\\nvalue = [10, 6]'),\n",
       " Text(207.7810306198656, 146.772, 'gini = 0.0\\nsamples = 3\\nvalue = [3, 0]'),\n",
       " Text(211.7816280806572, 146.772, 'X[6] <= -0.552\\ngini = 0.497\\nsamples = 13\\nvalue = [7, 6]'),\n",
       " Text(209.78132935026142, 135.9, 'gini = 0.0\\nsamples = 1\\nvalue = [0, 1]'),\n",
       " Text(213.78192681105304, 135.9, 'X[6] <= -0.235\\ngini = 0.486\\nsamples = 12\\nvalue = [7, 5]'),\n",
       " Text(211.7816280806572, 125.02799999999999, 'X[2] <= 0.44\\ngini = 0.463\\nsamples = 11\\nvalue = [7, 4]'),\n",
       " Text(207.7810306198656, 114.156, 'X[0] <= 0.224\\ngini = 0.444\\nsamples = 3\\nvalue = [1, 2]'),\n",
       " Text(205.78073188946976, 103.28399999999999, 'X[6] <= -0.458\\ngini = 0.5\\nsamples = 2\\nvalue = [1, 1]'),\n",
       " Text(203.78043315907397, 92.412, 'gini = 0.0\\nsamples = 1\\nvalue = [1, 0]'),\n",
       " Text(207.7810306198656, 92.412, 'gini = 0.0\\nsamples = 1\\nvalue = [0, 1]'),\n",
       " Text(209.78132935026142, 103.28399999999999, 'gini = 0.0\\nsamples = 1\\nvalue = [0, 1]'),\n",
       " Text(215.78222554144887, 114.156, 'X[6] <= -0.544\\ngini = 0.375\\nsamples = 8\\nvalue = [6, 2]'),\n",
       " Text(213.78192681105304, 103.28399999999999, 'X[6] <= -0.549\\ngini = 0.48\\nsamples = 5\\nvalue = [3, 2]'),\n",
       " Text(211.7816280806572, 92.412, 'X[6] <= -0.551\\ngini = 0.375\\nsamples = 4\\nvalue = [3, 1]'),\n",
       " Text(209.78132935026142, 81.53999999999999, 'gini = 0.0\\nsamples = 1\\nvalue = [1, 0]'),\n",
       " Text(213.78192681105304, 81.53999999999999, 'gini = 0.444\\nsamples = 3\\nvalue = [2, 1]'),\n",
       " Text(215.78222554144887, 92.412, 'gini = 0.0\\nsamples = 1\\nvalue = [0, 1]'),\n",
       " Text(217.7825242718447, 103.28399999999999, 'gini = 0.0\\nsamples = 3\\nvalue = [3, 0]'),\n",
       " Text(215.78222554144887, 125.02799999999999, 'gini = 0.0\\nsamples = 1\\nvalue = [0, 1]'),\n",
       " Text(229.7843166542196, 168.516, 'X[6] <= -0.551\\ngini = 0.117\\nsamples = 96\\nvalue = [90, 6]'),\n",
       " Text(227.78401792382377, 157.644, 'gini = 0.0\\nsamples = 36\\nvalue = [36, 0]'),\n",
       " Text(231.7846153846154, 157.644, 'X[6] <= -0.549\\ngini = 0.18\\nsamples = 60\\nvalue = [54, 6]'),\n",
       " Text(225.78371919342794, 146.772, 'X[3] <= 0.431\\ngini = 0.5\\nsamples = 4\\nvalue = [2, 2]'),\n",
       " Text(223.78342046303214, 135.9, 'X[2] <= 1.008\\ngini = 0.444\\nsamples = 3\\nvalue = [1, 2]'),\n",
       " Text(221.78312173263632, 125.02799999999999, 'gini = 0.5\\nsamples = 2\\nvalue = [1, 1]'),\n",
       " Text(225.78371919342794, 125.02799999999999, 'gini = 0.0\\nsamples = 1\\nvalue = [0, 1]'),\n",
       " Text(227.78401792382377, 135.9, 'gini = 0.0\\nsamples = 1\\nvalue = [1, 0]'),\n",
       " Text(237.78551157580287, 146.772, 'X[6] <= -0.421\\ngini = 0.133\\nsamples = 56\\nvalue = [52, 4]'),\n",
       " Text(235.78521284540705, 135.9, 'X[2] <= 2.03\\ngini = 0.193\\nsamples = 37\\nvalue = [33, 4]'),\n",
       " Text(229.7843166542196, 125.02799999999999, 'X[6] <= -0.429\\ngini = 0.161\\nsamples = 34\\nvalue = [31, 3]'),\n",
       " Text(223.78342046303214, 114.156, 'X[2] <= 1.178\\ngini = 0.083\\nsamples = 23\\nvalue = [22, 1]'),\n",
       " Text(221.78312173263632, 103.28399999999999, 'gini = 0.0\\nsamples = 16\\nvalue = [16, 0]'),\n",
       " Text(225.78371919342794, 103.28399999999999, 'X[2] <= 1.263\\ngini = 0.245\\nsamples = 7\\nvalue = [6, 1]'),\n",
       " Text(223.78342046303214, 92.412, 'gini = 0.0\\nsamples = 1\\nvalue = [0, 1]'),\n",
       " Text(227.78401792382377, 92.412, 'gini = 0.0\\nsamples = 6\\nvalue = [6, 0]'),\n",
       " Text(235.78521284540705, 114.156, 'X[2] <= 1.207\\ngini = 0.298\\nsamples = 11\\nvalue = [9, 2]'),\n",
       " Text(233.78491411501122, 103.28399999999999, 'X[2] <= 0.951\\ngini = 0.375\\nsamples = 8\\nvalue = [6, 2]'),\n",
       " Text(231.7846153846154, 92.412, 'X[2] <= 0.639\\ngini = 0.278\\nsamples = 6\\nvalue = [5, 1]'),\n",
       " Text(229.7843166542196, 81.53999999999999, 'gini = 0.444\\nsamples = 3\\nvalue = [2, 1]'),\n",
       " Text(233.78491411501122, 81.53999999999999, 'gini = 0.0\\nsamples = 3\\nvalue = [3, 0]'),\n",
       " Text(235.78521284540705, 92.412, 'gini = 0.5\\nsamples = 2\\nvalue = [1, 1]'),\n",
       " Text(237.78551157580287, 103.28399999999999, 'gini = 0.0\\nsamples = 3\\nvalue = [3, 0]'),\n",
       " Text(241.7861090365945, 125.02799999999999, 'X[2] <= 2.286\\ngini = 0.444\\nsamples = 3\\nvalue = [2, 1]'),\n",
       " Text(239.78581030619867, 114.156, 'gini = 0.0\\nsamples = 1\\nvalue = [0, 1]'),\n",
       " Text(243.78640776699032, 114.156, 'gini = 0.0\\nsamples = 2\\nvalue = [2, 0]'),\n",
       " Text(239.78581030619867, 135.9, 'gini = 0.0\\nsamples = 19\\nvalue = [19, 0]'),\n",
       " Text(253.7879014189694, 179.388, 'X[2] <= -0.668\\ngini = 0.49\\nsamples = 35\\nvalue = [20, 15]'),\n",
       " Text(249.78730395817777, 168.516, 'X[3] <= 1.337\\ngini = 0.291\\nsamples = 17\\nvalue = [3, 14]'),\n",
       " Text(247.78700522778195, 157.644, 'X[2] <= -1.338\\ngini = 0.124\\nsamples = 15\\nvalue = [1, 14]'),\n",
       " Text(245.78670649738612, 146.772, 'X[6] <= -0.273\\ngini = 0.444\\nsamples = 3\\nvalue = [1, 2]'),\n",
       " Text(243.78640776699032, 135.9, 'gini = 0.0\\nsamples = 2\\nvalue = [0, 2]'),\n",
       " Text(247.78700522778195, 135.9, 'gini = 0.0\\nsamples = 1\\nvalue = [1, 0]'),\n",
       " Text(249.78730395817777, 146.772, 'gini = 0.0\\nsamples = 12\\nvalue = [0, 12]'),\n",
       " Text(251.7876026885736, 157.644, 'gini = 0.0\\nsamples = 2\\nvalue = [2, 0]'),\n",
       " Text(257.78849887976105, 168.516, 'X[5] <= -1.323\\ngini = 0.105\\nsamples = 18\\nvalue = [17, 1]'),\n",
       " Text(255.78820014936522, 157.644, 'X[6] <= -0.464\\ngini = 0.444\\nsamples = 3\\nvalue = [2, 1]'),\n",
       " Text(253.7879014189694, 146.772, 'gini = 0.0\\nsamples = 2\\nvalue = [2, 0]'),\n",
       " Text(257.78849887976105, 146.772, 'gini = 0.0\\nsamples = 1\\nvalue = [0, 1]'),\n",
       " Text(259.78879761015685, 157.644, 'gini = 0.0\\nsamples = 15\\nvalue = [15, 0]'),\n",
       " Text(312.1403659447349, 190.26, 'X[3] <= 1.79\\ngini = 0.443\\nsamples = 160\\nvalue = [107, 53]'),\n",
       " Text(293.48132935026143, 179.388, 'X[6] <= -0.1\\ngini = 0.471\\nsamples = 137\\nvalue = [85, 52]'),\n",
       " Text(291.4810306198656, 168.516, 'gini = 0.0\\nsamples = 4\\nvalue = [0, 4]'),\n",
       " Text(295.48162808065723, 168.516, 'X[2] <= 1.661\\ngini = 0.461\\nsamples = 133\\nvalue = [85, 48]'),\n",
       " Text(272.165646004481, 157.644, 'X[6] <= -0.093\\ngini = 0.482\\nsamples = 111\\nvalue = [66, 45]'),\n",
       " Text(261.7890963405527, 146.772, 'X[2] <= -0.554\\ngini = 0.346\\nsamples = 9\\nvalue = [2, 7]'),\n",
       " Text(259.78879761015685, 135.9, 'gini = 0.5\\nsamples = 2\\nvalue = [1, 1]'),\n",
       " Text(263.7893950709485, 135.9, 'X[2] <= 0.923\\ngini = 0.245\\nsamples = 7\\nvalue = [1, 6]'),\n",
       " Text(261.7890963405527, 125.02799999999999, 'gini = 0.0\\nsamples = 3\\nvalue = [0, 3]'),\n",
       " Text(265.7896938013443, 125.02799999999999, 'X[2] <= 1.292\\ngini = 0.375\\nsamples = 4\\nvalue = [1, 3]'),\n",
       " Text(263.7893950709485, 114.156, 'gini = 0.5\\nsamples = 2\\nvalue = [1, 1]'),\n",
       " Text(267.78999253174015, 114.156, 'gini = 0.0\\nsamples = 2\\nvalue = [0, 2]'),\n",
       " Text(282.5421956684093, 146.772, 'X[6] <= -0.045\\ngini = 0.468\\nsamples = 102\\nvalue = [64, 38]'),\n",
       " Text(280.54189693801345, 135.9, 'gini = 0.0\\nsamples = 9\\nvalue = [9, 0]'),\n",
       " Text(284.5424943988051, 135.9, 'X[6] <= 0.0\\ngini = 0.483\\nsamples = 93\\nvalue = [55, 38]'),\n",
       " Text(273.7908887229276, 125.02799999999999, 'X[2] <= 0.241\\ngini = 0.397\\nsamples = 11\\nvalue = [3, 8]'),\n",
       " Text(271.79058999253175, 114.156, 'gini = 0.0\\nsamples = 6\\nvalue = [0, 6]'),\n",
       " Text(275.7911874533234, 114.156, 'X[6] <= -0.007\\ngini = 0.48\\nsamples = 5\\nvalue = [3, 2]'),\n",
       " Text(273.7908887229276, 103.28399999999999, 'gini = 0.0\\nsamples = 3\\nvalue = [3, 0]'),\n",
       " Text(277.7914861837192, 103.28399999999999, 'gini = 0.0\\nsamples = 2\\nvalue = [0, 2]'),\n",
       " Text(295.2941000746826, 125.02799999999999, 'X[6] <= 2.963\\ngini = 0.464\\nsamples = 82\\nvalue = [52, 30]'),\n",
       " Text(293.2938013442868, 114.156, 'X[6] <= 0.527\\ngini = 0.476\\nsamples = 77\\nvalue = [47, 30]'),\n",
       " Text(281.79208364451085, 103.28399999999999, 'X[3] <= 0.884\\ngini = 0.366\\nsamples = 29\\nvalue = [22, 7]'),\n",
       " Text(279.79178491411506, 92.412, 'X[2] <= 1.349\\ngini = 0.337\\nsamples = 28\\nvalue = [22, 6]'),\n",
       " Text(277.7914861837192, 81.53999999999999, 'X[6] <= 0.174\\ngini = 0.302\\nsamples = 27\\nvalue = [22, 5]'),\n",
       " Text(275.7911874533234, 70.668, 'X[6] <= 0.113\\ngini = 0.444\\nsamples = 15\\nvalue = [10, 5]'),\n",
       " Text(271.79058999253175, 59.79599999999999, 'X[5] <= -0.688\\ngini = 0.219\\nsamples = 8\\nvalue = [7, 1]'),\n",
       " Text(269.79029126213595, 48.92400000000001, 'X[6] <= 0.006\\ngini = 0.5\\nsamples = 2\\nvalue = [1, 1]'),\n",
       " Text(267.78999253174015, 38.05199999999999, 'gini = 0.0\\nsamples = 1\\nvalue = [1, 0]'),\n",
       " Text(271.79058999253175, 38.05199999999999, 'gini = 0.0\\nsamples = 1\\nvalue = [0, 1]'),\n",
       " Text(273.7908887229276, 48.92400000000001, 'gini = 0.0\\nsamples = 6\\nvalue = [6, 0]'),\n",
       " Text(279.79178491411506, 59.79599999999999, 'X[2] <= -0.583\\ngini = 0.49\\nsamples = 7\\nvalue = [3, 4]'),\n",
       " Text(277.7914861837192, 48.92400000000001, 'gini = 0.0\\nsamples = 3\\nvalue = [0, 3]'),\n",
       " Text(281.79208364451085, 48.92400000000001, 'X[2] <= 0.326\\ngini = 0.375\\nsamples = 4\\nvalue = [3, 1]'),\n",
       " Text(279.79178491411506, 38.05199999999999, 'X[3] <= -0.022\\ngini = 0.5\\nsamples = 2\\nvalue = [1, 1]'),\n",
       " Text(277.7914861837192, 27.180000000000007, 'gini = 0.0\\nsamples = 1\\nvalue = [0, 1]'),\n",
       " Text(281.79208364451085, 27.180000000000007, 'gini = 0.0\\nsamples = 1\\nvalue = [1, 0]'),\n",
       " Text(283.79238237490665, 38.05199999999999, 'gini = 0.0\\nsamples = 2\\nvalue = [2, 0]'),\n",
       " Text(279.79178491411506, 70.668, 'gini = 0.0\\nsamples = 12\\nvalue = [12, 0]'),\n",
       " Text(281.79208364451085, 81.53999999999999, 'gini = 0.0\\nsamples = 1\\nvalue = [0, 1]'),\n",
       " Text(283.79238237490665, 92.412, 'gini = 0.0\\nsamples = 1\\nvalue = [0, 1]'),\n",
       " Text(304.79551904406276, 103.28399999999999, 'X[4] <= 1.387\\ngini = 0.499\\nsamples = 48\\nvalue = [25, 23]'),\n",
       " Text(302.79522031366696, 92.412, 'X[6] <= 0.693\\ngini = 0.487\\nsamples = 43\\nvalue = [25, 18]'),\n",
       " Text(293.79387602688575, 81.53999999999999, 'X[2] <= 1.462\\ngini = 0.43\\nsamples = 16\\nvalue = [5, 11]'),\n",
       " Text(291.79357729648996, 70.668, 'X[2] <= -0.1\\ngini = 0.391\\nsamples = 15\\nvalue = [4, 11]'),\n",
       " Text(287.7929798356983, 59.79599999999999, 'X[0] <= -0.376\\ngini = 0.5\\nsamples = 4\\nvalue = [2, 2]'),\n",
       " Text(285.7926811053025, 48.92400000000001, 'gini = 0.0\\nsamples = 1\\nvalue = [1, 0]'),\n",
       " Text(289.7932785660941, 48.92400000000001, 'gini = 0.444\\nsamples = 3\\nvalue = [1, 2]'),\n",
       " Text(295.79417475728155, 59.79599999999999, 'X[2] <= 0.212\\ngini = 0.298\\nsamples = 11\\nvalue = [2, 9]'),\n",
       " Text(293.79387602688575, 48.92400000000001, 'gini = 0.0\\nsamples = 3\\nvalue = [0, 3]'),\n",
       " Text(297.7944734876774, 48.92400000000001, 'X[2] <= 0.326\\ngini = 0.375\\nsamples = 8\\nvalue = [2, 6]'),\n",
       " Text(295.79417475728155, 38.05199999999999, 'gini = 0.0\\nsamples = 1\\nvalue = [1, 0]'),\n",
       " Text(299.7947722180732, 38.05199999999999, 'X[6] <= 0.588\\ngini = 0.245\\nsamples = 7\\nvalue = [1, 6]'),\n",
       " Text(297.7944734876774, 27.180000000000007, 'X[6] <= 0.541\\ngini = 0.444\\nsamples = 3\\nvalue = [1, 2]'),\n",
       " Text(295.79417475728155, 16.307999999999993, 'gini = 0.0\\nsamples = 2\\nvalue = [0, 2]'),\n",
       " Text(299.7947722180732, 16.307999999999993, 'gini = 0.0\\nsamples = 1\\nvalue = [1, 0]'),\n",
       " Text(301.79507094846906, 27.180000000000007, 'gini = 0.0\\nsamples = 4\\nvalue = [0, 4]'),\n",
       " Text(295.79417475728155, 70.668, 'gini = 0.0\\nsamples = 1\\nvalue = [1, 0]'),\n",
       " Text(311.7965646004481, 81.53999999999999, 'X[2] <= -0.072\\ngini = 0.384\\nsamples = 27\\nvalue = [20, 7]'),\n",
       " Text(309.7962658700523, 70.668, 'gini = 0.0\\nsamples = 6\\nvalue = [6, 0]'),\n",
       " Text(313.79686333084396, 70.668, 'X[6] <= 1.354\\ngini = 0.444\\nsamples = 21\\nvalue = [14, 7]'),\n",
       " Text(307.7959671396565, 59.79599999999999, 'X[2] <= -0.015\\ngini = 0.337\\nsamples = 14\\nvalue = [11, 3]'),\n",
       " Text(305.79566840926066, 48.92400000000001, 'gini = 0.0\\nsamples = 1\\nvalue = [0, 1]'),\n",
       " Text(309.7962658700523, 48.92400000000001, 'X[5] <= -0.688\\ngini = 0.26\\nsamples = 13\\nvalue = [11, 2]'),\n",
       " Text(307.7959671396565, 38.05199999999999, 'X[6] <= 1.151\\ngini = 0.444\\nsamples = 6\\nvalue = [4, 2]'),\n",
       " Text(305.79566840926066, 27.180000000000007, 'X[6] <= 0.935\\ngini = 0.444\\nsamples = 3\\nvalue = [1, 2]'),\n",
       " Text(303.79536967886486, 16.307999999999993, 'gini = 0.0\\nsamples = 1\\nvalue = [1, 0]'),\n",
       " Text(307.7959671396565, 16.307999999999993, 'gini = 0.0\\nsamples = 2\\nvalue = [0, 2]'),\n",
       " Text(309.7962658700523, 27.180000000000007, 'gini = 0.0\\nsamples = 3\\nvalue = [3, 0]'),\n",
       " Text(311.7965646004481, 38.05199999999999, 'gini = 0.0\\nsamples = 7\\nvalue = [7, 0]'),\n",
       " Text(319.7977595220314, 59.79599999999999, 'X[5] <= -0.053\\ngini = 0.49\\nsamples = 7\\nvalue = [3, 4]'),\n",
       " Text(317.79746079163556, 48.92400000000001, 'X[6] <= 1.656\\ngini = 0.48\\nsamples = 5\\nvalue = [3, 2]'),\n",
       " Text(315.79716206123976, 38.05199999999999, 'X[5] <= -1.323\\ngini = 0.444\\nsamples = 3\\nvalue = [1, 2]'),\n",
       " Text(313.79686333084396, 27.180000000000007, 'gini = 0.0\\nsamples = 2\\nvalue = [0, 2]'),\n",
       " Text(317.79746079163556, 27.180000000000007, 'gini = 0.0\\nsamples = 1\\nvalue = [1, 0]'),\n",
       " Text(319.7977595220314, 38.05199999999999, 'gini = 0.0\\nsamples = 2\\nvalue = [2, 0]'),\n",
       " Text(321.7980582524272, 48.92400000000001, 'gini = 0.0\\nsamples = 2\\nvalue = [0, 2]'),\n",
       " Text(306.79581777445856, 92.412, 'gini = 0.0\\nsamples = 5\\nvalue = [0, 5]'),\n",
       " Text(297.29439880507846, 114.156, 'gini = 0.0\\nsamples = 5\\nvalue = [5, 0]'),\n",
       " Text(318.7976101568335, 157.644, 'X[2] <= 2.939\\ngini = 0.236\\nsamples = 22\\nvalue = [19, 3]'),\n",
       " Text(316.79731142643766, 146.772, 'X[5] <= -0.688\\ngini = 0.172\\nsamples = 21\\nvalue = [19, 2]'),\n",
       " Text(314.79701269604186, 135.9, 'X[3] <= -0.022\\ngini = 0.375\\nsamples = 8\\nvalue = [6, 2]'),\n",
       " Text(312.796713965646, 125.02799999999999, 'X[2] <= 1.888\\ngini = 0.245\\nsamples = 7\\nvalue = [6, 1]'),\n",
       " Text(310.7964152352502, 114.156, 'X[6] <= 0.061\\ngini = 0.5\\nsamples = 2\\nvalue = [1, 1]'),\n",
       " Text(308.7961165048544, 103.28399999999999, 'gini = 0.0\\nsamples = 1\\nvalue = [1, 0]'),\n",
       " Text(312.796713965646, 103.28399999999999, 'gini = 0.0\\nsamples = 1\\nvalue = [0, 1]'),\n",
       " Text(314.79701269604186, 114.156, 'gini = 0.0\\nsamples = 5\\nvalue = [5, 0]'),\n",
       " Text(316.79731142643766, 125.02799999999999, 'gini = 0.0\\nsamples = 1\\nvalue = [0, 1]'),\n",
       " Text(318.7976101568335, 135.9, 'gini = 0.0\\nsamples = 13\\nvalue = [13, 0]'),\n",
       " Text(320.7979088872293, 146.772, 'gini = 0.0\\nsamples = 1\\nvalue = [0, 1]'),\n",
       " Text(330.7994025392084, 179.388, 'X[6] <= 0.12\\ngini = 0.083\\nsamples = 23\\nvalue = [22, 1]'),\n",
       " Text(328.79910380881256, 168.516, 'X[2] <= -1.151\\ngini = 0.198\\nsamples = 9\\nvalue = [8, 1]'),\n",
       " Text(326.79880507841676, 157.644, 'X[5] <= -0.053\\ngini = 0.5\\nsamples = 2\\nvalue = [1, 1]'),\n",
       " Text(324.79850634802096, 146.772, 'gini = 0.0\\nsamples = 1\\nvalue = [1, 0]'),\n",
       " Text(328.79910380881256, 146.772, 'gini = 0.0\\nsamples = 1\\nvalue = [0, 1]'),\n",
       " Text(330.7994025392084, 157.644, 'gini = 0.0\\nsamples = 7\\nvalue = [7, 0]'),\n",
       " Text(332.7997012696042, 168.516, 'gini = 0.0\\nsamples = 14\\nvalue = [14, 0]')]"
      ]
     },
     "execution_count": 54,
     "metadata": {},
     "output_type": "execute_result"
    },
    {
     "data": {
      "image/png": "[encoded data removed]",
      "text/plain": [
       "<Figure size 432x288 with 1 Axes>"
      ]
     },
     "metadata": {
      "needs_background": "light"
     },
     "output_type": "display_data"
    }
   ],
   "source": [
    "tree.plot_tree(model2)"
   ]
  },
  {
   "cell_type": "markdown",
   "metadata": {},
   "source": [
    "# Hyperparameter Optimization"
   ]
  },
  {
   "cell_type": "code",
   "execution_count": 55,
   "metadata": {},
   "outputs": [],
   "source": [
    "#criterion=['gini','entropy']\n",
    "#splitter=['random','best']\n",
    "#max_depth=range(1,30)\n",
    "#min_samples_leaf=range(1,5)\n",
    "#min_samples_split=range(1,10)\n",
    "\n",
    "#param_grid={'criterion':criterion,\n",
    "           #'splitter':splitter,\n",
    "          # 'max_depth':max_depth,\n",
    "           #'min_samples_leaf':min_samples_leaf,\n",
    "           #'min_samples_split':min_samples_split}\n",
    "\n",
    "#gridsearch=GridSearchCV(model2,param_grid,cv=5)"
   ]
  },
  {
   "cell_type": "code",
   "execution_count": 56,
   "metadata": {},
   "outputs": [],
   "source": [
    "#randomsearch=RandomizedSearchCV(model2,param_grid,n_iter=100,cv=5)"
   ]
  },
  {
   "cell_type": "code",
   "execution_count": 57,
   "metadata": {},
   "outputs": [],
   "source": [
    "#gridsearch.fit(X_train,y_train)"
   ]
  },
  {
   "cell_type": "code",
   "execution_count": 58,
   "metadata": {},
   "outputs": [],
   "source": [
    "#randomsearch.fit(X_train,y_train)"
   ]
  },
  {
   "cell_type": "code",
   "execution_count": 59,
   "metadata": {},
   "outputs": [],
   "source": [
    "#gridsearch.best_params_"
   ]
  },
  {
   "cell_type": "code",
   "execution_count": 60,
   "metadata": {},
   "outputs": [],
   "source": [
    "#randomsearch.best_params_"
   ]
  },
  {
   "cell_type": "code",
   "execution_count": 61,
   "metadata": {},
   "outputs": [],
   "source": [
    "#dtscore=randomsearch.score(X_train,y_train)\n",
    "#dtscore1=gridsearch.score(X_train,y_train)\n",
    "#print(dtscore)\n",
    "#print(dtscore1)"
   ]
  },
  {
   "cell_type": "markdown",
   "metadata": {},
   "source": [
    "# 3. Random Forest"
   ]
  },
  {
   "cell_type": "code",
   "execution_count": 62,
   "metadata": {},
   "outputs": [],
   "source": [
    "from sklearn.ensemble import RandomForestRegressor\n",
    "model3=RandomForestRegressor()\n",
    "model3.fit(X,y)\n",
    "y3=model3.predict(X)"
   ]
  },
  {
   "cell_type": "code",
   "execution_count": 63,
   "metadata": {},
   "outputs": [],
   "source": [
    "for i in range(0,888):\n",
    "    if y3[i]>=.5:\n",
    "        y3[i]=1\n",
    "    else:\n",
    "        y3[i]=0"
   ]
  },
  {
   "cell_type": "code",
   "execution_count": 64,
   "metadata": {},
   "outputs": [
    {
     "data": {
      "text/plain": [
       "array([0., 1., 1., 1., 0., 0., 0., 0., 1., 1., 1., 1., 0., 0., 0., 1., 0.,\n",
       "       1., 0., 1., 0., 0., 1., 1., 0., 1., 0., 0., 1., 0., 0., 1., 1., 0.,\n",
       "       0., 0., 0., 0., 0., 1., 0., 0., 0., 1., 1., 0., 0., 1., 0., 0., 0.,\n",
       "       0., 1., 1., 0., 1., 1., 0., 1., 0., 0., 1., 0., 0., 0., 1., 1., 0.,\n",
       "       1., 0., 0., 0., 0., 0., 1., 0., 0., 0., 1., 1., 0., 1., 1., 0., 1.,\n",
       "       1., 0., 0., 1., 0., 0., 0., 0., 0., 0., 0., 0., 1., 1., 0., 0., 0.,\n",
       "       0., 0., 0., 0., 1., 0., 0., 1., 0., 0., 0., 0., 0., 0., 0., 0., 0.,\n",
       "       0., 0., 0., 0., 1., 0., 1., 0., 1., 1., 0., 0., 0., 0., 1., 0., 0.,\n",
       "       1., 0., 0., 0., 0., 1., 1., 0., 0., 0., 1., 0., 0., 0., 0., 1., 0.,\n",
       "       0., 0., 0., 1., 0., 0., 0., 0., 1., 0., 0., 0., 1., 1., 0., 0., 0.,\n",
       "       0., 0., 1., 0., 0., 0., 0., 0., 0., 0., 0., 0., 0., 1., 1., 0., 1.,\n",
       "       1., 0., 0., 1., 0., 1., 1., 1., 1., 0., 0., 1., 1., 0., 0., 0., 0.,\n",
       "       1., 0., 0., 1., 1., 1., 0., 1., 0., 0., 0., 1., 1., 0., 1., 0., 1.,\n",
       "       0., 0., 0., 1., 0., 0., 0., 0., 0., 1., 0., 0., 1., 0., 0., 0., 1.,\n",
       "       0., 0., 0., 1., 0., 0., 0., 0., 0., 1., 1., 0., 0., 0., 0., 0., 0.,\n",
       "       1., 1., 1., 1., 0., 1., 0., 0., 1., 0., 0., 0., 1., 1., 0., 1., 1.,\n",
       "       0., 1., 1., 0., 0., 0., 1., 0., 0., 0., 0., 0., 0., 1., 0., 0., 1.,\n",
       "       1., 1., 0., 0., 0., 0., 0., 0., 1., 1., 1., 1., 0., 1., 0., 1., 1.,\n",
       "       1., 0., 1., 1., 1., 0., 0., 0., 1., 1., 0., 1., 1., 0., 0., 1., 1.,\n",
       "       0., 1., 0., 1., 1., 1., 1., 0., 0., 0., 1., 0., 0., 1., 1., 0., 1.,\n",
       "       1., 0., 0., 0., 1., 1., 1., 1., 0., 0., 0., 0., 0., 0., 0., 1., 0.,\n",
       "       1., 1., 0., 0., 0., 0., 0., 0., 1., 1., 1., 1., 1., 0., 0., 0., 0.,\n",
       "       1., 1., 0., 0., 0., 1., 1., 0., 1., 0., 0., 0., 1., 0., 1., 1., 1.,\n",
       "       0., 1., 1., 0., 0., 0., 0., 1., 0., 0., 0., 0., 0., 0., 0., 1., 0.,\n",
       "       0., 0., 0., 1., 0., 1., 0., 1., 1., 0., 0., 0., 0., 0., 0., 0., 0.,\n",
       "       1., 1., 0., 1., 1., 1., 1., 0., 0., 1., 0., 1., 0., 0., 1., 0., 0.,\n",
       "       1., 1., 1., 1., 1., 1., 1., 0., 0., 0., 1., 0., 1., 0., 1., 1., 0.,\n",
       "       1., 0., 0., 0., 0., 0., 0., 0., 0., 1., 0., 0., 1., 1., 0., 0., 0.,\n",
       "       0., 0., 1., 0., 0., 0., 1., 1., 0., 1., 0., 0., 1., 0., 0., 0., 0.,\n",
       "       0., 0., 1., 0., 0., 0., 0., 0., 0., 0., 1., 0., 1., 0., 0., 1., 1.,\n",
       "       0., 1., 1., 0., 0., 1., 0., 1., 0., 1., 0., 0., 1., 0., 0., 1., 0.,\n",
       "       0., 0., 1., 0., 0., 1., 0., 1., 1., 1., 0., 1., 1., 0., 0., 1., 0.,\n",
       "       0., 1., 1., 0., 1., 1., 0., 0., 1., 1., 0., 1., 0., 1., 1., 0., 0.,\n",
       "       0., 0., 0., 0., 0., 0., 0., 1., 1., 1., 1., 1., 1., 0., 1., 1., 0.,\n",
       "       0., 1., 1., 0., 0., 0., 1., 0., 1., 0., 0., 0., 1., 0., 0., 0., 0.,\n",
       "       1., 0., 0., 1., 1., 0., 0., 0., 1., 0., 0., 1., 1., 1., 0., 0., 1.,\n",
       "       0., 0., 1., 0., 0., 1., 0., 0., 1., 1., 0., 0., 0., 0., 1., 0., 0.,\n",
       "       1., 0., 1., 0., 0., 1., 0., 0., 0., 0., 0., 1., 0., 1., 1., 1., 0.,\n",
       "       1., 0., 1., 0., 1., 0., 1., 0., 0., 0., 0., 0., 0., 1., 0., 0., 0.,\n",
       "       1., 0., 0., 0., 0., 1., 1., 0., 0., 1., 0., 0., 0., 1., 0., 0., 1.,\n",
       "       0., 0., 0., 0., 0., 0., 0., 1., 1., 1., 1., 0., 0., 0., 0., 1., 0.,\n",
       "       0., 1., 1., 0., 0., 0., 0., 1., 1., 1., 1., 1., 0., 1., 0., 0., 0.,\n",
       "       1., 1., 0., 0., 1., 0., 0., 0., 1., 0., 1., 1., 0., 0., 1., 0., 0.,\n",
       "       0., 0., 0., 0., 0., 0., 1., 0., 1., 0., 1., 0., 0., 1., 0., 0., 1.,\n",
       "       1., 0., 0., 1., 1., 0., 0., 0., 1., 0., 0., 1., 1., 0., 1., 0., 0.,\n",
       "       0., 0., 0., 0., 0., 0., 1., 0., 0., 1., 0., 1., 1., 1., 0., 0., 0.,\n",
       "       0., 1., 0., 1., 0., 0., 0., 0., 0., 0., 0., 1., 1., 0., 0., 0., 1.,\n",
       "       1., 1., 1., 0., 0., 0., 0., 1., 0., 0., 0., 0., 0., 0., 0., 0., 0.,\n",
       "       0., 1., 1., 0., 1., 0., 0., 1., 1., 0., 1., 1., 1., 0., 0., 0., 1.,\n",
       "       0., 0., 1., 1., 0., 0., 1., 0., 0., 0., 0., 0., 0., 1., 0., 0., 0.,\n",
       "       1., 0., 1., 1., 1., 1., 0., 0., 0., 1., 0., 0., 1., 1., 0., 0., 1.,\n",
       "       0., 1., 0., 0., 1., 1., 0., 0., 0., 1., 1., 0., 0., 0., 0., 0., 0.,\n",
       "       1., 0., 1., 0.])"
      ]
     },
     "execution_count": 64,
     "metadata": {},
     "output_type": "execute_result"
    }
   ],
   "source": [
    "y3"
   ]
  },
  {
   "cell_type": "code",
   "execution_count": 65,
   "metadata": {},
   "outputs": [
    {
     "name": "stdout",
     "output_type": "stream",
     "text": [
      "F1 Score= 0.9761904761904762\n",
      "Classification Report=               precision    recall  f1-score   support\n",
      "\n",
      "           0       0.98      0.99      0.99       549\n",
      "           1       0.98      0.97      0.98       339\n",
      "\n",
      "    accuracy                           0.98       888\n",
      "   macro avg       0.98      0.98      0.98       888\n",
      "weighted avg       0.98      0.98      0.98       888\n",
      "\n",
      "[[544   5]\n",
      " [ 11 328]]\n"
     ]
    }
   ],
   "source": [
    "print('F1 Score=',f1_score(y,y3))\n",
    "print('Classification Report=', classification_report(y,y3))\n",
    "print(confusion_matrix(y,y3))"
   ]
  },
  {
   "cell_type": "code",
   "execution_count": 66,
   "metadata": {},
   "outputs": [
    {
     "data": {
      "text/plain": [
       "(888,)"
      ]
     },
     "execution_count": 66,
     "metadata": {},
     "output_type": "execute_result"
    }
   ],
   "source": [
    "y3.shape"
   ]
  },
  {
   "cell_type": "markdown",
   "metadata": {},
   "source": [
    "# XgBoost"
   ]
  },
  {
   "cell_type": "code",
   "execution_count": 67,
   "metadata": {},
   "outputs": [
    {
     "data": {
      "text/plain": [
       "XGBClassifier(base_score=0.5, booster='gbtree', colsample_bylevel=1,\n",
       "              colsample_bynode=1, colsample_bytree=1, gamma=0, gpu_id=-1,\n",
       "              importance_type='gain', interaction_constraints='',\n",
       "              learning_rate=0.300000012, max_delta_step=0, max_depth=6,\n",
       "              min_child_weight=1, missing=nan, monotone_constraints='()',\n",
       "              n_estimators=100, n_jobs=0, num_parallel_tree=1, random_state=0,\n",
       "              reg_alpha=0, reg_lambda=1, scale_pos_weight=1, subsample=1,\n",
       "              tree_method='exact', validate_parameters=1, verbosity=None)"
      ]
     },
     "execution_count": 67,
     "metadata": {},
     "output_type": "execute_result"
    }
   ],
   "source": [
    "from xgboost import XGBClassifier\n",
    "model4=XGBClassifier()\n",
    "model4.fit(X,y)"
   ]
  },
  {
   "cell_type": "code",
   "execution_count": 68,
   "metadata": {},
   "outputs": [
    {
     "data": {
      "text/plain": [
       "array([0, 1, 1, 1, 0, 0, 0, 0, 1, 1, 1, 1, 0, 0, 0, 1, 0, 1, 0, 1, 0, 0,\n",
       "       1, 1, 0, 1, 0, 0, 1, 0, 0, 1, 1, 0, 0, 0, 0, 0, 0, 1, 0, 0, 0, 1,\n",
       "       1, 0, 0, 1, 0, 0, 0, 0, 1, 1, 0, 1, 1, 0, 1, 0, 0, 1, 0, 0, 0, 1,\n",
       "       1, 0, 1, 0, 0, 0, 0, 0, 1, 0, 0, 0, 1, 1, 0, 1, 1, 0, 1, 1, 0, 0,\n",
       "       1, 0, 0, 0, 0, 0, 0, 0, 0, 1, 1, 0, 0, 0, 0, 0, 0, 0, 1, 0, 0, 1,\n",
       "       0, 0, 0, 0, 0, 0, 0, 0, 0, 0, 0, 0, 0, 1, 0, 1, 0, 1, 1, 0, 0, 0,\n",
       "       0, 1, 0, 0, 1, 0, 0, 0, 0, 1, 1, 0, 0, 0, 1, 0, 0, 0, 0, 1, 0, 0,\n",
       "       0, 0, 1, 0, 0, 0, 0, 1, 0, 0, 0, 1, 1, 0, 0, 0, 0, 0, 1, 0, 0, 0,\n",
       "       0, 0, 0, 0, 0, 0, 0, 1, 1, 0, 1, 1, 0, 0, 1, 0, 1, 1, 1, 1, 0, 0,\n",
       "       1, 1, 0, 0, 0, 0, 0, 0, 0, 1, 1, 1, 0, 1, 0, 0, 0, 1, 1, 0, 1, 0,\n",
       "       0, 0, 0, 0, 1, 0, 0, 0, 0, 0, 1, 0, 0, 1, 0, 0, 0, 1, 0, 0, 0, 1,\n",
       "       0, 0, 0, 0, 0, 1, 1, 0, 0, 0, 0, 0, 0, 1, 1, 1, 1, 0, 1, 0, 0, 1,\n",
       "       0, 0, 0, 1, 1, 0, 0, 1, 0, 1, 1, 0, 0, 0, 1, 0, 0, 0, 0, 0, 0, 0,\n",
       "       0, 0, 1, 1, 1, 0, 0, 0, 0, 0, 0, 1, 1, 1, 0, 0, 1, 0, 1, 1, 1, 0,\n",
       "       1, 1, 1, 0, 0, 0, 1, 1, 0, 1, 1, 0, 0, 1, 1, 0, 1, 0, 1, 1, 1, 1,\n",
       "       0, 0, 0, 1, 0, 0, 1, 0, 0, 1, 1, 0, 0, 0, 1, 1, 1, 1, 0, 0, 0, 0,\n",
       "       0, 0, 0, 1, 0, 1, 1, 0, 0, 0, 0, 0, 0, 1, 1, 1, 1, 1, 0, 0, 0, 0,\n",
       "       1, 1, 0, 0, 0, 1, 1, 1, 1, 0, 0, 0, 1, 0, 1, 1, 0, 0, 1, 1, 0, 0,\n",
       "       0, 0, 1, 0, 0, 0, 0, 0, 0, 0, 1, 0, 0, 0, 0, 1, 0, 1, 0, 1, 1, 0,\n",
       "       0, 0, 0, 0, 0, 0, 0, 1, 1, 0, 0, 1, 1, 1, 0, 0, 1, 0, 1, 0, 0, 1,\n",
       "       0, 0, 1, 0, 1, 1, 1, 1, 1, 0, 0, 0, 1, 0, 1, 0, 1, 1, 0, 1, 0, 0,\n",
       "       0, 0, 0, 0, 0, 0, 1, 0, 0, 1, 1, 0, 0, 0, 0, 0, 1, 0, 0, 0, 1, 1,\n",
       "       0, 1, 0, 0, 1, 0, 0, 0, 0, 0, 0, 1, 0, 0, 0, 0, 0, 0, 0, 1, 0, 1,\n",
       "       1, 0, 1, 0, 0, 1, 1, 0, 0, 1, 0, 1, 0, 1, 0, 0, 1, 0, 0, 1, 0, 0,\n",
       "       0, 1, 0, 0, 1, 0, 1, 1, 1, 0, 1, 1, 0, 0, 0, 0, 0, 1, 1, 0, 1, 1,\n",
       "       0, 0, 0, 1, 0, 1, 0, 1, 1, 0, 0, 0, 0, 0, 0, 0, 0, 0, 0, 0, 1, 1,\n",
       "       1, 0, 0, 1, 1, 0, 1, 1, 1, 0, 0, 0, 1, 0, 1, 0, 0, 0, 1, 0, 0, 0,\n",
       "       0, 1, 0, 0, 1, 1, 0, 0, 0, 1, 0, 0, 1, 1, 1, 0, 0, 1, 0, 0, 1, 0,\n",
       "       0, 1, 0, 0, 1, 1, 0, 0, 0, 0, 1, 0, 0, 1, 0, 1, 0, 0, 1, 1, 0, 0,\n",
       "       0, 0, 1, 0, 1, 1, 1, 0, 1, 0, 1, 0, 1, 0, 1, 0, 0, 0, 0, 0, 0, 1,\n",
       "       0, 0, 0, 1, 0, 0, 0, 0, 1, 1, 0, 0, 1, 0, 0, 0, 1, 0, 0, 1, 0, 0,\n",
       "       0, 0, 0, 0, 0, 1, 1, 1, 1, 0, 0, 0, 0, 1, 0, 0, 1, 1, 0, 0, 0, 0,\n",
       "       1, 1, 1, 1, 1, 1, 1, 0, 0, 0, 1, 1, 0, 0, 1, 0, 0, 0, 1, 0, 1, 1,\n",
       "       0, 0, 1, 0, 0, 0, 0, 0, 0, 0, 0, 1, 0, 1, 0, 1, 0, 0, 1, 0, 0, 1,\n",
       "       1, 0, 0, 1, 1, 0, 0, 0, 1, 0, 0, 1, 1, 0, 1, 0, 0, 0, 0, 0, 0, 0,\n",
       "       0, 1, 0, 0, 1, 0, 1, 1, 1, 0, 0, 0, 0, 1, 0, 1, 0, 0, 0, 0, 0, 0,\n",
       "       0, 1, 1, 0, 0, 0, 1, 1, 1, 1, 0, 0, 0, 0, 1, 0, 0, 0, 0, 0, 0, 0,\n",
       "       0, 0, 0, 1, 0, 0, 1, 0, 0, 1, 1, 0, 1, 1, 1, 0, 0, 0, 1, 0, 0, 1,\n",
       "       1, 0, 0, 1, 0, 0, 0, 0, 0, 0, 1, 0, 0, 0, 1, 0, 1, 1, 1, 1, 0, 0,\n",
       "       0, 1, 0, 0, 1, 1, 0, 0, 1, 0, 1, 0, 0, 1, 1, 0, 0, 0, 1, 1, 0, 0,\n",
       "       0, 0, 0, 0, 1, 0, 1, 0], dtype=int64)"
      ]
     },
     "execution_count": 68,
     "metadata": {},
     "output_type": "execute_result"
    }
   ],
   "source": [
    "y4=model4.predict(X)\n",
    "y4"
   ]
  },
  {
   "cell_type": "code",
   "execution_count": 69,
   "metadata": {},
   "outputs": [
    {
     "name": "stdout",
     "output_type": "stream",
     "text": [
      "F1 Score= 0.9531013615733737\n",
      "Classification Report=               precision    recall  f1-score   support\n",
      "\n",
      "           0       0.96      0.99      0.97       549\n",
      "           1       0.98      0.93      0.95       339\n",
      "\n",
      "    accuracy                           0.97       888\n",
      "   macro avg       0.97      0.96      0.96       888\n",
      "weighted avg       0.97      0.97      0.96       888\n",
      "\n",
      "[[542   7]\n",
      " [ 24 315]]\n"
     ]
    }
   ],
   "source": [
    "print('F1 Score=',f1_score(y,y4))\n",
    "print('Classification Report=', classification_report(y,y4))\n",
    "print(confusion_matrix(y,y4))"
   ]
  },
  {
   "cell_type": "markdown",
   "metadata": {},
   "source": [
    "# SVM"
   ]
  },
  {
   "cell_type": "code",
   "execution_count": 70,
   "metadata": {},
   "outputs": [],
   "source": [
    "from sklearn.svm import SVC"
   ]
  },
  {
   "cell_type": "code",
   "execution_count": 71,
   "metadata": {},
   "outputs": [],
   "source": [
    "model5=SVC(kernel='rbf',C=10,gamma=0.04)"
   ]
  },
  {
   "cell_type": "code",
   "execution_count": 72,
   "metadata": {},
   "outputs": [],
   "source": [
    "model5.fit(X,y)\n",
    "y5=model5.predict(X)"
   ]
  },
  {
   "cell_type": "code",
   "execution_count": 73,
   "metadata": {},
   "outputs": [
    {
     "name": "stdout",
     "output_type": "stream",
     "text": [
      "F1 Score= 0.7637540453074434\n",
      "Classification Report=               precision    recall  f1-score   support\n",
      "\n",
      "           0       0.83      0.92      0.87       549\n",
      "           1       0.85      0.70      0.76       339\n",
      "\n",
      "    accuracy                           0.84       888\n",
      "   macro avg       0.84      0.81      0.82       888\n",
      "weighted avg       0.84      0.84      0.83       888\n",
      "\n",
      "[[506  43]\n",
      " [103 236]]\n"
     ]
    }
   ],
   "source": [
    "print('F1 Score=',f1_score(y,y5))\n",
    "print('Classification Report=', classification_report(y,y5))\n",
    "print(confusion_matrix(y,y5))"
   ]
  },
  {
   "cell_type": "code",
   "execution_count": 74,
   "metadata": {},
   "outputs": [],
   "source": [
    "kernel=['rbf']\n",
    "\n",
    "gamma=[0.03,0.003,0.004,0.04,0.01,1,10,100,2,3,]\n",
    "c=[1.0,0.1,0.01,10,0.001,0.2,0.02,0.3,0.03]\n",
    "grid1=dict(kernel=kernel,gamma=gamma,C=c)\n"
   ]
  },
  {
   "cell_type": "code",
   "execution_count": 75,
   "metadata": {},
   "outputs": [],
   "source": [
    "grid_search_1 = GridSearchCV(estimator=model5, param_grid=grid1,cv=5)"
   ]
  },
  {
   "cell_type": "code",
   "execution_count": 76,
   "metadata": {},
   "outputs": [],
   "source": [
    "grid_result_1 = grid_search_1.fit(X, y)"
   ]
  },
  {
   "cell_type": "code",
   "execution_count": 77,
   "metadata": {},
   "outputs": [
    {
     "name": "stdout",
     "output_type": "stream",
     "text": [
      "Best Score= 0.823201929791151\n",
      "Best parameters= {'C': 10, 'gamma': 0.04, 'kernel': 'rbf'}\n"
     ]
    }
   ],
   "source": [
    "print(\"Best Score=\",grid_result_1.best_score_)\n",
    "print(\"Best parameters=\",grid_result_1.best_params_)"
   ]
  },
  {
   "cell_type": "markdown",
   "metadata": {},
   "source": [
    "# KNN"
   ]
  },
  {
   "cell_type": "code",
   "execution_count": null,
   "metadata": {},
   "outputs": [],
   "source": []
  },
  {
   "cell_type": "code",
   "execution_count": null,
   "metadata": {},
   "outputs": [],
   "source": []
  },
  {
   "cell_type": "code",
   "execution_count": null,
   "metadata": {},
   "outputs": [],
   "source": []
  },
  {
   "cell_type": "markdown",
   "metadata": {},
   "source": [
    "# Test set evaluation"
   ]
  },
  {
   "cell_type": "code",
   "execution_count": 49,
   "metadata": {},
   "outputs": [],
   "source": [
    "test=pd.read_csv(r\"G:\\Essentials\\Hackathon PS\\kaggle-titanic\\test.csv\")"
   ]
  },
  {
   "cell_type": "code",
   "execution_count": 50,
   "metadata": {},
   "outputs": [
    {
     "data": {
      "text/html": [
       "<div>\n",
       "<style scoped>\n",
       "    .dataframe tbody tr th:only-of-type {\n",
       "        vertical-align: middle;\n",
       "    }\n",
       "\n",
       "    .dataframe tbody tr th {\n",
       "        vertical-align: top;\n",
       "    }\n",
       "\n",
       "    .dataframe thead th {\n",
       "        text-align: right;\n",
       "    }\n",
       "</style>\n",
       "<table border=\"1\" class=\"dataframe\">\n",
       "  <thead>\n",
       "    <tr style=\"text-align: right;\">\n",
       "      <th></th>\n",
       "      <th>PassengerId</th>\n",
       "      <th>Pclass</th>\n",
       "      <th>Name</th>\n",
       "      <th>Sex</th>\n",
       "      <th>Age</th>\n",
       "      <th>SibSp</th>\n",
       "      <th>Parch</th>\n",
       "      <th>Ticket</th>\n",
       "      <th>Fare</th>\n",
       "      <th>Cabin</th>\n",
       "      <th>Embarked</th>\n",
       "    </tr>\n",
       "  </thead>\n",
       "  <tbody>\n",
       "    <tr>\n",
       "      <th>0</th>\n",
       "      <td>892</td>\n",
       "      <td>3</td>\n",
       "      <td>Kelly, Mr. James</td>\n",
       "      <td>male</td>\n",
       "      <td>34.5</td>\n",
       "      <td>0</td>\n",
       "      <td>0</td>\n",
       "      <td>330911</td>\n",
       "      <td>7.8292</td>\n",
       "      <td>NaN</td>\n",
       "      <td>Q</td>\n",
       "    </tr>\n",
       "    <tr>\n",
       "      <th>1</th>\n",
       "      <td>893</td>\n",
       "      <td>3</td>\n",
       "      <td>Wilkes, Mrs. James (Ellen Needs)</td>\n",
       "      <td>female</td>\n",
       "      <td>47.0</td>\n",
       "      <td>1</td>\n",
       "      <td>0</td>\n",
       "      <td>363272</td>\n",
       "      <td>7.0000</td>\n",
       "      <td>NaN</td>\n",
       "      <td>S</td>\n",
       "    </tr>\n",
       "    <tr>\n",
       "      <th>2</th>\n",
       "      <td>894</td>\n",
       "      <td>2</td>\n",
       "      <td>Myles, Mr. Thomas Francis</td>\n",
       "      <td>male</td>\n",
       "      <td>62.0</td>\n",
       "      <td>0</td>\n",
       "      <td>0</td>\n",
       "      <td>240276</td>\n",
       "      <td>9.6875</td>\n",
       "      <td>NaN</td>\n",
       "      <td>Q</td>\n",
       "    </tr>\n",
       "    <tr>\n",
       "      <th>3</th>\n",
       "      <td>895</td>\n",
       "      <td>3</td>\n",
       "      <td>Wirz, Mr. Albert</td>\n",
       "      <td>male</td>\n",
       "      <td>27.0</td>\n",
       "      <td>0</td>\n",
       "      <td>0</td>\n",
       "      <td>315154</td>\n",
       "      <td>8.6625</td>\n",
       "      <td>NaN</td>\n",
       "      <td>S</td>\n",
       "    </tr>\n",
       "    <tr>\n",
       "      <th>4</th>\n",
       "      <td>896</td>\n",
       "      <td>3</td>\n",
       "      <td>Hirvonen, Mrs. Alexander (Helga E Lindqvist)</td>\n",
       "      <td>female</td>\n",
       "      <td>22.0</td>\n",
       "      <td>1</td>\n",
       "      <td>1</td>\n",
       "      <td>3101298</td>\n",
       "      <td>12.2875</td>\n",
       "      <td>NaN</td>\n",
       "      <td>S</td>\n",
       "    </tr>\n",
       "  </tbody>\n",
       "</table>\n",
       "</div>"
      ],
      "text/plain": [
       "   PassengerId  Pclass                                          Name     Sex  \\\n",
       "0          892       3                              Kelly, Mr. James    male   \n",
       "1          893       3              Wilkes, Mrs. James (Ellen Needs)  female   \n",
       "2          894       2                     Myles, Mr. Thomas Francis    male   \n",
       "3          895       3                              Wirz, Mr. Albert    male   \n",
       "4          896       3  Hirvonen, Mrs. Alexander (Helga E Lindqvist)  female   \n",
       "\n",
       "    Age  SibSp  Parch   Ticket     Fare Cabin Embarked  \n",
       "0  34.5      0      0   330911   7.8292   NaN        Q  \n",
       "1  47.0      1      0   363272   7.0000   NaN        S  \n",
       "2  62.0      0      0   240276   9.6875   NaN        Q  \n",
       "3  27.0      0      0   315154   8.6625   NaN        S  \n",
       "4  22.0      1      1  3101298  12.2875   NaN        S  "
      ]
     },
     "execution_count": 50,
     "metadata": {},
     "output_type": "execute_result"
    }
   ],
   "source": [
    "test.head()"
   ]
  },
  {
   "cell_type": "code",
   "execution_count": 51,
   "metadata": {},
   "outputs": [],
   "source": [
    "test.drop(['Cabin','Ticket'],axis=1,inplace=True)"
   ]
  },
  {
   "cell_type": "code",
   "execution_count": 52,
   "metadata": {},
   "outputs": [],
   "source": [
    "test=test.rename(columns={'Pclass':'Ticket Class','SibSp':'No of sib/Spouses','Parch':'No of parents/children'})"
   ]
  },
  {
   "cell_type": "code",
   "execution_count": 53,
   "metadata": {},
   "outputs": [
    {
     "data": {
      "text/html": [
       "<div>\n",
       "<style scoped>\n",
       "    .dataframe tbody tr th:only-of-type {\n",
       "        vertical-align: middle;\n",
       "    }\n",
       "\n",
       "    .dataframe tbody tr th {\n",
       "        vertical-align: top;\n",
       "    }\n",
       "\n",
       "    .dataframe thead th {\n",
       "        text-align: right;\n",
       "    }\n",
       "</style>\n",
       "<table border=\"1\" class=\"dataframe\">\n",
       "  <thead>\n",
       "    <tr style=\"text-align: right;\">\n",
       "      <th></th>\n",
       "      <th>PassengerId</th>\n",
       "      <th>Ticket Class</th>\n",
       "      <th>Name</th>\n",
       "      <th>Sex</th>\n",
       "      <th>Age</th>\n",
       "      <th>No of sib/Spouses</th>\n",
       "      <th>No of parents/children</th>\n",
       "      <th>Fare</th>\n",
       "      <th>Embarked</th>\n",
       "    </tr>\n",
       "  </thead>\n",
       "  <tbody>\n",
       "    <tr>\n",
       "      <th>0</th>\n",
       "      <td>892</td>\n",
       "      <td>3</td>\n",
       "      <td>Kelly, Mr. James</td>\n",
       "      <td>male</td>\n",
       "      <td>34.5</td>\n",
       "      <td>0</td>\n",
       "      <td>0</td>\n",
       "      <td>7.8292</td>\n",
       "      <td>Q</td>\n",
       "    </tr>\n",
       "    <tr>\n",
       "      <th>1</th>\n",
       "      <td>893</td>\n",
       "      <td>3</td>\n",
       "      <td>Wilkes, Mrs. James (Ellen Needs)</td>\n",
       "      <td>female</td>\n",
       "      <td>47.0</td>\n",
       "      <td>1</td>\n",
       "      <td>0</td>\n",
       "      <td>7.0000</td>\n",
       "      <td>S</td>\n",
       "    </tr>\n",
       "    <tr>\n",
       "      <th>2</th>\n",
       "      <td>894</td>\n",
       "      <td>2</td>\n",
       "      <td>Myles, Mr. Thomas Francis</td>\n",
       "      <td>male</td>\n",
       "      <td>62.0</td>\n",
       "      <td>0</td>\n",
       "      <td>0</td>\n",
       "      <td>9.6875</td>\n",
       "      <td>Q</td>\n",
       "    </tr>\n",
       "    <tr>\n",
       "      <th>3</th>\n",
       "      <td>895</td>\n",
       "      <td>3</td>\n",
       "      <td>Wirz, Mr. Albert</td>\n",
       "      <td>male</td>\n",
       "      <td>27.0</td>\n",
       "      <td>0</td>\n",
       "      <td>0</td>\n",
       "      <td>8.6625</td>\n",
       "      <td>S</td>\n",
       "    </tr>\n",
       "    <tr>\n",
       "      <th>4</th>\n",
       "      <td>896</td>\n",
       "      <td>3</td>\n",
       "      <td>Hirvonen, Mrs. Alexander (Helga E Lindqvist)</td>\n",
       "      <td>female</td>\n",
       "      <td>22.0</td>\n",
       "      <td>1</td>\n",
       "      <td>1</td>\n",
       "      <td>12.2875</td>\n",
       "      <td>S</td>\n",
       "    </tr>\n",
       "  </tbody>\n",
       "</table>\n",
       "</div>"
      ],
      "text/plain": [
       "   PassengerId  Ticket Class                                          Name  \\\n",
       "0          892             3                              Kelly, Mr. James   \n",
       "1          893             3              Wilkes, Mrs. James (Ellen Needs)   \n",
       "2          894             2                     Myles, Mr. Thomas Francis   \n",
       "3          895             3                              Wirz, Mr. Albert   \n",
       "4          896             3  Hirvonen, Mrs. Alexander (Helga E Lindqvist)   \n",
       "\n",
       "      Sex   Age  No of sib/Spouses  No of parents/children     Fare Embarked  \n",
       "0    male  34.5                  0                       0   7.8292        Q  \n",
       "1  female  47.0                  1                       0   7.0000        S  \n",
       "2    male  62.0                  0                       0   9.6875        Q  \n",
       "3    male  27.0                  0                       0   8.6625        S  \n",
       "4  female  22.0                  1                       1  12.2875        S  "
      ]
     },
     "execution_count": 53,
     "metadata": {},
     "output_type": "execute_result"
    }
   ],
   "source": [
    "test.head()"
   ]
  },
  {
   "cell_type": "code",
   "execution_count": 54,
   "metadata": {},
   "outputs": [
    {
     "data": {
      "text/plain": [
       "PassengerId                0\n",
       "Ticket Class               0\n",
       "Name                       0\n",
       "Sex                        0\n",
       "Age                       86\n",
       "No of sib/Spouses          0\n",
       "No of parents/children     0\n",
       "Fare                       1\n",
       "Embarked                   0\n",
       "dtype: int64"
      ]
     },
     "execution_count": 54,
     "metadata": {},
     "output_type": "execute_result"
    }
   ],
   "source": [
    "test.isnull().sum()"
   ]
  },
  {
   "cell_type": "code",
   "execution_count": 55,
   "metadata": {},
   "outputs": [],
   "source": [
    "test['Age'].replace(np.nan,0,inplace=True)"
   ]
  },
  {
   "cell_type": "code",
   "execution_count": 56,
   "metadata": {},
   "outputs": [],
   "source": [
    "test['Fare'].replace(np.nan,0,inplace=True)"
   ]
  },
  {
   "cell_type": "code",
   "execution_count": 57,
   "metadata": {},
   "outputs": [],
   "source": [
    "test['Sex']=test['Sex'].replace({'male':'1','female':'0'})\n",
    "encoder=LabelEncoder()\n",
    "test['Embarked']=encoder.fit(test['Embarked']).transform(test['Embarked'])"
   ]
  },
  {
   "cell_type": "code",
   "execution_count": 58,
   "metadata": {},
   "outputs": [
    {
     "data": {
      "text/html": [
       "<div>\n",
       "<style scoped>\n",
       "    .dataframe tbody tr th:only-of-type {\n",
       "        vertical-align: middle;\n",
       "    }\n",
       "\n",
       "    .dataframe tbody tr th {\n",
       "        vertical-align: top;\n",
       "    }\n",
       "\n",
       "    .dataframe thead th {\n",
       "        text-align: right;\n",
       "    }\n",
       "</style>\n",
       "<table border=\"1\" class=\"dataframe\">\n",
       "  <thead>\n",
       "    <tr style=\"text-align: right;\">\n",
       "      <th></th>\n",
       "      <th>PassengerId</th>\n",
       "      <th>Ticket Class</th>\n",
       "      <th>Name</th>\n",
       "      <th>Sex</th>\n",
       "      <th>Age</th>\n",
       "      <th>No of sib/Spouses</th>\n",
       "      <th>No of parents/children</th>\n",
       "      <th>Fare</th>\n",
       "      <th>Embarked</th>\n",
       "    </tr>\n",
       "  </thead>\n",
       "  <tbody>\n",
       "    <tr>\n",
       "      <th>0</th>\n",
       "      <td>892</td>\n",
       "      <td>3</td>\n",
       "      <td>Kelly, Mr. James</td>\n",
       "      <td>1</td>\n",
       "      <td>34.5</td>\n",
       "      <td>0</td>\n",
       "      <td>0</td>\n",
       "      <td>7.8292</td>\n",
       "      <td>1</td>\n",
       "    </tr>\n",
       "    <tr>\n",
       "      <th>1</th>\n",
       "      <td>893</td>\n",
       "      <td>3</td>\n",
       "      <td>Wilkes, Mrs. James (Ellen Needs)</td>\n",
       "      <td>0</td>\n",
       "      <td>47.0</td>\n",
       "      <td>1</td>\n",
       "      <td>0</td>\n",
       "      <td>7.0000</td>\n",
       "      <td>2</td>\n",
       "    </tr>\n",
       "    <tr>\n",
       "      <th>2</th>\n",
       "      <td>894</td>\n",
       "      <td>2</td>\n",
       "      <td>Myles, Mr. Thomas Francis</td>\n",
       "      <td>1</td>\n",
       "      <td>62.0</td>\n",
       "      <td>0</td>\n",
       "      <td>0</td>\n",
       "      <td>9.6875</td>\n",
       "      <td>1</td>\n",
       "    </tr>\n",
       "    <tr>\n",
       "      <th>3</th>\n",
       "      <td>895</td>\n",
       "      <td>3</td>\n",
       "      <td>Wirz, Mr. Albert</td>\n",
       "      <td>1</td>\n",
       "      <td>27.0</td>\n",
       "      <td>0</td>\n",
       "      <td>0</td>\n",
       "      <td>8.6625</td>\n",
       "      <td>2</td>\n",
       "    </tr>\n",
       "    <tr>\n",
       "      <th>4</th>\n",
       "      <td>896</td>\n",
       "      <td>3</td>\n",
       "      <td>Hirvonen, Mrs. Alexander (Helga E Lindqvist)</td>\n",
       "      <td>0</td>\n",
       "      <td>22.0</td>\n",
       "      <td>1</td>\n",
       "      <td>1</td>\n",
       "      <td>12.2875</td>\n",
       "      <td>2</td>\n",
       "    </tr>\n",
       "  </tbody>\n",
       "</table>\n",
       "</div>"
      ],
      "text/plain": [
       "   PassengerId  Ticket Class                                          Name  \\\n",
       "0          892             3                              Kelly, Mr. James   \n",
       "1          893             3              Wilkes, Mrs. James (Ellen Needs)   \n",
       "2          894             2                     Myles, Mr. Thomas Francis   \n",
       "3          895             3                              Wirz, Mr. Albert   \n",
       "4          896             3  Hirvonen, Mrs. Alexander (Helga E Lindqvist)   \n",
       "\n",
       "  Sex   Age  No of sib/Spouses  No of parents/children     Fare  Embarked  \n",
       "0   1  34.5                  0                       0   7.8292         1  \n",
       "1   0  47.0                  1                       0   7.0000         2  \n",
       "2   1  62.0                  0                       0   9.6875         1  \n",
       "3   1  27.0                  0                       0   8.6625         2  \n",
       "4   0  22.0                  1                       1  12.2875         2  "
      ]
     },
     "execution_count": 58,
     "metadata": {},
     "output_type": "execute_result"
    }
   ],
   "source": [
    "test.head()"
   ]
  },
  {
   "cell_type": "code",
   "execution_count": 59,
   "metadata": {},
   "outputs": [],
   "source": [
    "X_test=test[['Ticket Class','Sex','Age','No of sib/Spouses','No of parents/children','Embarked','Fare']]"
   ]
  },
  {
   "cell_type": "code",
   "execution_count": 60,
   "metadata": {},
   "outputs": [],
   "source": [
    "scaler=StandardScaler()\n",
    "X_test=scaler.fit(X_test).transform(X_test)"
   ]
  },
  {
   "cell_type": "code",
   "execution_count": 61,
   "metadata": {},
   "outputs": [],
   "source": [
    "sub=pd.read_csv(r\"C:\\Users\\ritik\\Desktop\\Hackathon PS\\kaggle-titanic\\gender_submission.csv\")"
   ]
  },
  {
   "cell_type": "code",
   "execution_count": 62,
   "metadata": {},
   "outputs": [
    {
     "data": {
      "text/html": [
       "<div>\n",
       "<style scoped>\n",
       "    .dataframe tbody tr th:only-of-type {\n",
       "        vertical-align: middle;\n",
       "    }\n",
       "\n",
       "    .dataframe tbody tr th {\n",
       "        vertical-align: top;\n",
       "    }\n",
       "\n",
       "    .dataframe thead th {\n",
       "        text-align: right;\n",
       "    }\n",
       "</style>\n",
       "<table border=\"1\" class=\"dataframe\">\n",
       "  <thead>\n",
       "    <tr style=\"text-align: right;\">\n",
       "      <th></th>\n",
       "      <th>PassengerId</th>\n",
       "      <th>Survived</th>\n",
       "    </tr>\n",
       "  </thead>\n",
       "  <tbody>\n",
       "    <tr>\n",
       "      <th>0</th>\n",
       "      <td>892</td>\n",
       "      <td>0</td>\n",
       "    </tr>\n",
       "    <tr>\n",
       "      <th>1</th>\n",
       "      <td>893</td>\n",
       "      <td>1</td>\n",
       "    </tr>\n",
       "    <tr>\n",
       "      <th>2</th>\n",
       "      <td>894</td>\n",
       "      <td>0</td>\n",
       "    </tr>\n",
       "    <tr>\n",
       "      <th>3</th>\n",
       "      <td>895</td>\n",
       "      <td>0</td>\n",
       "    </tr>\n",
       "    <tr>\n",
       "      <th>4</th>\n",
       "      <td>896</td>\n",
       "      <td>1</td>\n",
       "    </tr>\n",
       "  </tbody>\n",
       "</table>\n",
       "</div>"
      ],
      "text/plain": [
       "   PassengerId  Survived\n",
       "0          892         0\n",
       "1          893         1\n",
       "2          894         0\n",
       "3          895         0\n",
       "4          896         1"
      ]
     },
     "execution_count": 62,
     "metadata": {},
     "output_type": "execute_result"
    }
   ],
   "source": [
    "sub.head()"
   ]
  },
  {
   "cell_type": "code",
   "execution_count": 92,
   "metadata": {},
   "outputs": [],
   "source": [
    "dt_pred=model2.predict(X_test)\n",
    "sub['Survived']=dt_pred\n",
    "sub.to_csv(r\"C:\\Users\\ritik\\Desktop\\Hackathon PS\\kaggle-titanic\\dtpred.csv\",index=False)"
   ]
  },
  {
   "cell_type": "code",
   "execution_count": 93,
   "metadata": {},
   "outputs": [
    {
     "data": {
      "text/plain": [
       "(418,)"
      ]
     },
     "execution_count": 93,
     "metadata": {},
     "output_type": "execute_result"
    }
   ],
   "source": [
    "dt_pred.shape"
   ]
  },
  {
   "cell_type": "code",
   "execution_count": 94,
   "metadata": {},
   "outputs": [],
   "source": [
    "LR_pred=model1.predict(X_test)\n",
    "sub['Survived']=LR_pred\n",
    "sub.to_csv(r\"C:\\Users\\ritik\\Desktop\\Hackathon PS\\kaggle-titanic\\Lr.csv\",index=False)"
   ]
  },
  {
   "cell_type": "code",
   "execution_count": 95,
   "metadata": {},
   "outputs": [],
   "source": [
    "rf_pred=model3.predict(X_test)\n",
    "sub['Survived']=rf_pred\n",
    "sub.to_csv(r\"C:\\Users\\ritik\\Desktop\\Hackathon PS\\kaggle-titanic\\rf.csv\",index=False)"
   ]
  },
  {
   "cell_type": "code",
   "execution_count": 96,
   "metadata": {},
   "outputs": [],
   "source": [
    "xg_pred=model4.predict(X_test)\n",
    "sub['Survived']=xg_pred\n",
    "sub.to_csv(r\"C:\\Users\\ritik\\Desktop\\Hackathon PS\\kaggle-titanic\\xgb.csv\",index=False)"
   ]
  },
  {
   "cell_type": "code",
   "execution_count": 97,
   "metadata": {},
   "outputs": [],
   "source": [
    "svm_pred=model5.predict(X_test)\n",
    "sub['Survived']=svm_pred\n",
    "sub.to_csv(r\"C:\\Users\\ritik\\Desktop\\Hackathon PS\\kaggle-titanic\\svm.csv\",index=False)"
   ]
  },
  {
   "cell_type": "code",
   "execution_count": 70,
   "metadata": {},
   "outputs": [],
   "source": [
    "lgbpred=clf.predict(X_test)\n",
    "sub['Survived']=lgbpred\n",
    "sub.to_csv(r\"C:\\Users\\ritik\\Desktop\\Hackathon PS\\kaggle-titanic\\lgb.csv\",index=False)"
   ]
  },
  {
   "cell_type": "code",
   "execution_count": 98,
   "metadata": {},
   "outputs": [
    {
     "data": {
      "image/png": "[encoded data removed]",
      "text/plain": [
       "<Figure size 432x288 with 1 Axes>"
      ]
     },
     "metadata": {
      "needs_background": "light"
     },
     "output_type": "display_data"
    }
   ],
   "source": [
    "ax2=sns.distplot(y,hist=False,color='r',label='Actual Value')\n",
    "sns.distplot(LR_pred,hist=False,color='b',label='Predicted Value',ax=ax2)\n",
    "plt.title(\"Results of Logistic Regression\")\n",
    "plt.grid()\n",
    "plt.show()\n",
    "plt.close()"
   ]
  },
  {
   "cell_type": "code",
   "execution_count": 99,
   "metadata": {},
   "outputs": [
    {
     "data": {
      "image/png": "[encoded data removed]",
      "text/plain": [
       "<Figure size 432x288 with 1 Axes>"
      ]
     },
     "metadata": {
      "needs_background": "light"
     },
     "output_type": "display_data"
    }
   ],
   "source": [
    "ax2=sns.distplot(y_train,hist=False,color='r',label='Actual Value')\n",
    "sns.distplot(dt_pred,hist=False,color='b',label='Predicted Value',ax=ax2)\n",
    "plt.title(\"Results of Decision Tree\")\n",
    "plt.ylabel(\"Proportion of houses\")\n",
    "plt.show()\n",
    "plt.close()"
   ]
  },
  {
   "cell_type": "code",
   "execution_count": 100,
   "metadata": {},
   "outputs": [
    {
     "data": {
      "image/png": "[encoded data removed]",
      "text/plain": [
       "<Figure size 432x288 with 1 Axes>"
      ]
     },
     "metadata": {
      "needs_background": "light"
     },
     "output_type": "display_data"
    }
   ],
   "source": [
    "ax2=sns.distplot(y_train,hist=False,color='r',label='Actual Value')\n",
    "sns.distplot(rf_pred,hist=False,color='b',label='Predicted Value',ax=ax2)\n",
    "plt.title(\"Results of random Forest \")\n",
    "plt.ylabel(\"Proportion of houses\")\n",
    "plt.show()\n",
    "plt.close()"
   ]
  },
  {
   "cell_type": "code",
   "execution_count": 101,
   "metadata": {},
   "outputs": [
    {
     "data": {
      "image/png": "[encoded data removed]",
      "text/plain": [
       "<Figure size 432x288 with 1 Axes>"
      ]
     },
     "metadata": {
      "needs_background": "light"
     },
     "output_type": "display_data"
    }
   ],
   "source": [
    "ax2=sns.distplot(y_train,hist=False,color='r',label='Actual Value')\n",
    "sns.distplot(xg_pred,hist=False,color='b',label='Predicted Value',ax=ax2)\n",
    "plt.title(\"Results of XGBoost \")\n",
    "plt.ylabel(\"Proportion of houses\")\n",
    "plt.show()\n",
    "plt.close()"
   ]
  },
  {
   "cell_type": "code",
   "execution_count": 102,
   "metadata": {},
   "outputs": [
    {
     "data": {
      "image/png": "[encoded data removed]",
      "text/plain": [
       "<Figure size 432x288 with 1 Axes>"
      ]
     },
     "metadata": {
      "needs_background": "light"
     },
     "output_type": "display_data"
    }
   ],
   "source": [
    "ax2=sns.distplot(y,hist=False,color='r',label='Actual Value')\n",
    "sns.distplot(svm_pred,hist=False,color='b',label='Predicted Value',ax=ax2)\n",
    "plt.title(\"Results of SVM \")\n",
    "plt.grid()\n",
    "plt.show()\n",
    "plt.close()"
   ]
  },
  {
   "cell_type": "markdown",
   "metadata": {},
   "source": [
    "# Out of all models SVM turned out to be the best with a score of 0.77 on test data"
   ]
  },
  {
   "cell_type": "code",
   "execution_count": 103,
   "metadata": {},
   "outputs": [],
   "source": [
    "import pickle"
   ]
  },
  {
   "cell_type": "code",
   "execution_count": 104,
   "metadata": {},
   "outputs": [],
   "source": [
    "pickle.dump(model5,open('model5.pkl','wb'))"
   ]
  },
  {
   "cell_type": "code",
   "execution_count": null,
   "metadata": {},
   "outputs": [],
   "source": []
  }
 ],
 "metadata": {
  "kernelspec": {
   "display_name": "Python 3",
   "language": "python",
   "name": "python3"
  },
  "language_info": {
   "codemirror_mode": {
    "name": "ipython",
    "version": 3
   },
   "file_extension": ".py",
   "mimetype": "text/x-python",
   "name": "python",
   "nbconvert_exporter": "python",
   "pygments_lexer": "ipython3",
   "version": "3.7.3"
  },
  "toc": {
   "base_numbering": 1,
   "nav_menu": {},
   "number_sections": true,
   "sideBar": true,
   "skip_h1_title": false,
   "title_cell": "Table of Contents",
   "title_sidebar": "Contents",
   "toc_cell": false,
   "toc_position": {},
   "toc_section_display": true,
   "toc_window_display": false
  },
  "varInspector": {
   "cols": {
    "lenName": 16,
    "lenType": 16,
    "lenVar": 40
   },
   "kernels_config": {
    "python": {
     "delete_cmd_postfix": "",
     "delete_cmd_prefix": "del ",
     "library": "var_list.py",
     "varRefreshCmd": "print(var_dic_list())"
    },
    "r": {
     "delete_cmd_postfix": ") ",
     "delete_cmd_prefix": "rm(",
     "library": "var_list.r",
     "varRefreshCmd": "cat(var_dic_list()) "
    }
   },
   "types_to_exclude": [
    "module",
    "function",
    "builtin_function_or_method",
    "instance",
    "_Feature"
   ],
   "window_display": false
  }
 },
 "nbformat": 4,
 "nbformat_minor": 2
}
